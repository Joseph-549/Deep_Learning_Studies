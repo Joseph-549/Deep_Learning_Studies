{
  "nbformat": 4,
  "nbformat_minor": 0,
  "metadata": {
    "colab": {
      "name": "deneme_file_colab.ipynb adlı not defterinin kopyası",
      "provenance": [],
      "collapsed_sections": [],
      "authorship_tag": "ABX9TyOpVxpRgb+odG5LjId9ol9x",
      "include_colab_link": true
    },
    "kernelspec": {
      "name": "python3",
      "display_name": "Python 3"
    },
    "language_info": {
      "name": "python"
    },
    "gpuClass": "standard",
    "accelerator": "GPU"
  },
  "cells": [
    {
      "cell_type": "markdown",
      "metadata": {
        "id": "view-in-github",
        "colab_type": "text"
      },
      "source": [
        "<a href=\"https://colab.research.google.com/github/Joseph-549/Deep_Learning_Studies/blob/main/deneme_file_colab.ipynb\" target=\"_parent\"><img src=\"https://colab.research.google.com/assets/colab-badge.svg\" alt=\"Open In Colab\"/></a>"
      ]
    },
    {
      "cell_type": "markdown",
      "source": [
        "# Getting a feature vector from a trained model \n",
        "\n",
        "Let's demonstrate the Global Average Pooling 2D layer.\n",
        "\n",
        "We have a tensor after our model goes through `base_model` of shape (None, 7, 7, 1280).\n",
        "\n",
        "But then when it passe through GlobalAveragePooling2D, it turns into (None, 1280)\n",
        "\n",
        "Let's use a similar shaped tensor of (1, 4, 4, 3) and then pass it to GlobalAveragePooling2D."
      ],
      "metadata": {
        "id": "IgaKiRGJuczn"
      }
    },
    {
      "cell_type": "code",
      "source": [
        "import tensorflow as tf\n",
        "# Define the input shape\n",
        "input_shape = (1, 4, 4, 3)\n",
        "\n",
        "# Create a random tensor\n",
        "tf.random.set_seed(42)\n",
        "input_tensor = tf.random.normal(input_shape)\n",
        "print(f\"Random input tensor: \\n {input_tensor} \\n\")\n",
        "\n",
        "# Pass the random tensor through a global average pooling 2D layer\n",
        "global_average_pooled_tensor = tf.keras.layers.GlobalAveragePooling2D()(input_tensor)\n",
        "print(f\"2D global average pooled random tensor: \\n {global_average_pooled_tensor} \\n\")"
      ],
      "metadata": {
        "colab": {
          "base_uri": "https://localhost:8080/"
        },
        "id": "XaNP3kthu0E-",
        "outputId": "d7a09d20-05fe-43fa-f9d9-7db63b9d51ab"
      },
      "execution_count": null,
      "outputs": [
        {
          "output_type": "stream",
          "name": "stdout",
          "text": [
            "Random input tensor: \n",
            " [[[[ 0.3274685  -0.8426258   0.3194337 ]\n",
            "   [-1.4075519  -2.3880599  -1.0392479 ]\n",
            "   [-0.5573232   0.539707    1.6994323 ]\n",
            "   [ 0.28893656 -1.5066116  -0.2645474 ]]\n",
            "\n",
            "  [[-0.59722406 -1.9171132  -0.62044144]\n",
            "   [ 0.8504023  -0.40604794 -3.0258412 ]\n",
            "   [ 0.9058464   0.29855987 -0.22561555]\n",
            "   [-0.7616443  -1.8917141  -0.93847126]]\n",
            "\n",
            "  [[ 0.77852213 -0.47338897  0.97772694]\n",
            "   [ 0.24694404  0.20573747 -0.5256233 ]\n",
            "   [ 0.32410017  0.02545409 -0.10638497]\n",
            "   [-0.6369475   1.1603122   0.2507359 ]]\n",
            "\n",
            "  [[-0.41728503  0.4012578  -1.4145443 ]\n",
            "   [-0.5931857  -1.6617213   0.33567193]\n",
            "   [ 0.10815629  0.23479682 -0.56668764]\n",
            "   [-0.35819843  0.88698614  0.52744764]]]] \n",
            "\n",
            "2D global average pooled random tensor: \n",
            " [[-0.09368646 -0.45840448 -0.2885598 ]] \n",
            "\n"
          ]
        }
      ]
    },
    {
      "cell_type": "code",
      "source": [
        "# Let's replicate the GlobalAveragePooling2D\n",
        "tf.reduce_mean(input_tensor, axis = [1, 2])"
      ],
      "metadata": {
        "colab": {
          "base_uri": "https://localhost:8080/"
        },
        "id": "u0ZNFbjjvudL",
        "outputId": "4b9aa8ea-8306-4a49-a21e-081e684c3393"
      },
      "execution_count": null,
      "outputs": [
        {
          "output_type": "execute_result",
          "data": {
            "text/plain": [
              "<tf.Tensor: shape=(1, 3), dtype=float32, numpy=array([[-0.09368646, -0.45840448, -0.2885598 ]], dtype=float32)>"
            ]
          },
          "metadata": {},
          "execution_count": 58
        }
      ]
    },
    {
      "cell_type": "markdown",
      "source": [
        "**Pratice:** Try to do the same with the above two cells but this time use `GlobalMaxPool2D` ... and see what happens."
      ],
      "metadata": {
        "id": "2_GHHeIowHSZ"
      }
    },
    {
      "cell_type": "markdown",
      "source": [
        "**Note:** One of the reasons feature extraction transfer learning is named how it is because what often happens is pretrained model outputs a **feature vector** (a long tensor of numbes which represents the learned representation of the model on a particular sample, in our case, this is the output of the `tf.keras.layers.GlobalAveragePooling2D()` layer) which can then be used to extract patterns out of for our own specifc problem."
      ],
      "metadata": {
        "id": "lMPqp2VAwWx4"
      }
    },
    {
      "cell_type": "markdown",
      "source": [
        "## Running a series of transfer learning experiments\n",
        "\n",
        "We've seen the incredible results transfer learning can get with only 10% of the training data, but how does it go with 1% of the training data... how about we set up a bunch of experiments to find out:\n",
        "\n",
        "1. `model_1` - use feature extraction transfer learning with 1% of the training data with data augmentation\n",
        "\n",
        "2. `model_2` - use feature extraction transfer learning with 10% of the training with data augmentation\n",
        "\n",
        "3. `model_3` - use fine-tuning transfer learning\n",
        "\n",
        "4. `model_4` - use fine-tuning transfer learning on 100% of the training data with data augmentation\n",
        "\n",
        "**Note:** Throughtout all experiments the same test dataset will be used to evaluate our model... this ensures consistency across evaluation metrics."
      ],
      "metadata": {
        "id": "BTrC9PPGwyA-"
      }
    },
    {
      "cell_type": "code",
      "source": [
        "# Downolad and unzip data - preprocessed from Food101\n",
        "!wget https://storage.googleapis.com/ztm_tf_course/food_vision/10_food_classes_1_percent.zip"
      ],
      "metadata": {
        "colab": {
          "base_uri": "https://localhost:8080/"
        },
        "id": "Ml-At2OUxtYv",
        "outputId": "d834215a-9c73-46cb-a567-0e65b953ca9d"
      },
      "execution_count": null,
      "outputs": [
        {
          "output_type": "stream",
          "name": "stdout",
          "text": [
            "--2022-08-24 08:05:28--  https://storage.googleapis.com/ztm_tf_course/food_vision/10_food_classes_1_percent.zip\n",
            "Resolving storage.googleapis.com (storage.googleapis.com)... 74.125.142.128, 74.125.195.128, 172.253.117.128, ...\n",
            "Connecting to storage.googleapis.com (storage.googleapis.com)|74.125.142.128|:443... connected.\n",
            "HTTP request sent, awaiting response... 200 OK\n",
            "Length: 133612354 (127M) [application/zip]\n",
            "Saving to: ‘10_food_classes_1_percent.zip.1’\n",
            "\n",
            "10_food_classes_1_p 100%[===================>] 127.42M   156MB/s    in 0.8s    \n",
            "\n",
            "2022-08-24 08:05:29 (156 MB/s) - ‘10_food_classes_1_percent.zip.1’ saved [133612354/133612354]\n",
            "\n"
          ]
        }
      ]
    },
    {
      "cell_type": "code",
      "source": [
        "!wget https://raw.githubusercontent.com/mrdbourke/tensorflow-deep-learning/main/extras/helper_functions.py"
      ],
      "metadata": {
        "colab": {
          "base_uri": "https://localhost:8080/"
        },
        "id": "4SXtIkntCNzk",
        "outputId": "6735c4b8-3f7e-4cf8-e490-c0d161dde681"
      },
      "execution_count": null,
      "outputs": [
        {
          "output_type": "stream",
          "name": "stdout",
          "text": [
            "--2022-08-24 08:05:29--  https://raw.githubusercontent.com/mrdbourke/tensorflow-deep-learning/main/extras/helper_functions.py\n",
            "Resolving raw.githubusercontent.com (raw.githubusercontent.com)... 185.199.108.133, 185.199.109.133, 185.199.110.133, ...\n",
            "Connecting to raw.githubusercontent.com (raw.githubusercontent.com)|185.199.108.133|:443... connected.\n",
            "HTTP request sent, awaiting response... 200 OK\n",
            "Length: 10246 (10K) [text/plain]\n",
            "Saving to: ‘helper_functions.py.1’\n",
            "\n",
            "\rhelper_functions.py   0%[                    ]       0  --.-KB/s               \rhelper_functions.py 100%[===================>]  10.01K  --.-KB/s    in 0s      \n",
            "\n",
            "2022-08-24 08:05:29 (70.8 MB/s) - ‘helper_functions.py.1’ saved [10246/10246]\n",
            "\n"
          ]
        }
      ]
    },
    {
      "cell_type": "code",
      "source": [
        "from helper_functions import unzip_data, walk_through_dir, create_tensorboard_callback, plot_loss_curves"
      ],
      "metadata": {
        "id": "tOigNpcHCQz1"
      },
      "execution_count": null,
      "outputs": []
    },
    {
      "cell_type": "code",
      "source": [
        "unzip_data(\"10_food_classes_1_percent.zip\")"
      ],
      "metadata": {
        "id": "QIh9F6WEyTEP"
      },
      "execution_count": null,
      "outputs": []
    },
    {
      "cell_type": "code",
      "source": [
        "# Create training and test dirs\n",
        "train_dir_1_percent = \"10_food_classes_1_percent/train\"\n",
        "test_dir = \"10_food_classes_1_percent/test\""
      ],
      "metadata": {
        "id": "PzlrEumbytGX"
      },
      "execution_count": null,
      "outputs": []
    },
    {
      "cell_type": "code",
      "source": [
        "# How many images are we working with?\n",
        "walk_through_dir(\"10_food_classes_1_percent\")"
      ],
      "metadata": {
        "colab": {
          "base_uri": "https://localhost:8080/"
        },
        "id": "K1ChzKnBy7qO",
        "outputId": "3cba991a-efc7-48f7-e0c0-4a17d2a8f584"
      },
      "execution_count": null,
      "outputs": [
        {
          "output_type": "stream",
          "name": "stdout",
          "text": [
            "There are 2 directories and 0 images in '10_food_classes_1_percent'.\n",
            "There are 10 directories and 0 images in '10_food_classes_1_percent/train'.\n",
            "There are 0 directories and 7 images in '10_food_classes_1_percent/train/fried_rice'.\n",
            "There are 0 directories and 7 images in '10_food_classes_1_percent/train/sushi'.\n",
            "There are 0 directories and 7 images in '10_food_classes_1_percent/train/chicken_wings'.\n",
            "There are 0 directories and 7 images in '10_food_classes_1_percent/train/hamburger'.\n",
            "There are 0 directories and 7 images in '10_food_classes_1_percent/train/chicken_curry'.\n",
            "There are 0 directories and 7 images in '10_food_classes_1_percent/train/ice_cream'.\n",
            "There are 0 directories and 7 images in '10_food_classes_1_percent/train/ramen'.\n",
            "There are 0 directories and 7 images in '10_food_classes_1_percent/train/steak'.\n",
            "There are 0 directories and 7 images in '10_food_classes_1_percent/train/pizza'.\n",
            "There are 0 directories and 7 images in '10_food_classes_1_percent/train/grilled_salmon'.\n",
            "There are 10 directories and 0 images in '10_food_classes_1_percent/test'.\n",
            "There are 0 directories and 250 images in '10_food_classes_1_percent/test/fried_rice'.\n",
            "There are 0 directories and 250 images in '10_food_classes_1_percent/test/sushi'.\n",
            "There are 0 directories and 250 images in '10_food_classes_1_percent/test/chicken_wings'.\n",
            "There are 0 directories and 250 images in '10_food_classes_1_percent/test/hamburger'.\n",
            "There are 0 directories and 250 images in '10_food_classes_1_percent/test/chicken_curry'.\n",
            "There are 0 directories and 250 images in '10_food_classes_1_percent/test/ice_cream'.\n",
            "There are 0 directories and 250 images in '10_food_classes_1_percent/test/ramen'.\n",
            "There are 0 directories and 250 images in '10_food_classes_1_percent/test/steak'.\n",
            "There are 0 directories and 250 images in '10_food_classes_1_percent/test/pizza'.\n",
            "There are 0 directories and 250 images in '10_food_classes_1_percent/test/grilled_salmon'.\n"
          ]
        }
      ]
    },
    {
      "cell_type": "code",
      "source": [
        "IMG_SIZE = (224, 224)\n",
        "BATCH_SIZE = 32\n",
        "train_data_1_percent = tf.keras.preprocessing.image_dataset_from_directory(train_dir_1_percent,\n",
        "                                                                           label_mode = 'categorical',\n",
        "                                                                           image_size = IMG_SIZE,\n",
        "                                                                           batch_size = BATCH_SIZE)\n",
        "\n",
        "test_data = tf.keras.preprocessing.image_dataset_from_directory(test_dir,\n",
        "                                                                label_mode = 'categorical',\n",
        "                                                                image_size = IMG_SIZE,\n",
        "                                                                batch_size = BATCH_SIZE)"
      ],
      "metadata": {
        "colab": {
          "base_uri": "https://localhost:8080/"
        },
        "id": "UlDQFHkXzHs6",
        "outputId": "1dcf6c3c-a4ea-4a9d-bb79-e8833ec8ce80"
      },
      "execution_count": null,
      "outputs": [
        {
          "output_type": "stream",
          "name": "stdout",
          "text": [
            "Found 70 files belonging to 10 classes.\n",
            "Found 2500 files belonging to 10 classes.\n"
          ]
        }
      ]
    },
    {
      "cell_type": "markdown",
      "source": [
        "# Adding data augmentation right into the model\n",
        "\n",
        "To add data augmentation right into our models, we can use the layers inside:\n",
        "\n",
        "* `tf.keras.layers.experimental.preprocessing()`\n",
        "\n",
        "We can see the benefits of doing this within the TensorFlow Data augmentation documentation: https://www.tensorflow.org/tutorials/images/data_augmentation#use_keras_preprocessing_layers\n",
        "\n",
        "Off the top our of heads, after reading the docs, the benefits of using data augmentation inside the model are:\n",
        "* Preprocessing of images (augmenting them) happens on the GPU\n",
        "(much faster) rather than the CPU"
      ],
      "metadata": {
        "id": "i3EXsW2S_rVk"
      }
    },
    {
      "cell_type": "code",
      "source": [
        "import tensorflow as tf\n",
        "from tensorflow import keras\n",
        "from tensorflow.keras import layers\n",
        "from tensorflow.keras.layers.experimental import preprocessing\n",
        "\n",
        "# Create data augmentation stage with horizontal flipping, rotations, zooms, etc.\n",
        "data_augmentation = keras.Sequential([\n",
        "    preprocessing.RandomFlip(\"horizontal\"),\n",
        "    preprocessing.RandomRotation(0.2),\n",
        "    preprocessing.RandomZoom(0.2),\n",
        "    preprocessing.RandomHeight(0.2),\n",
        "    preprocessing.RandomWidth(0.2),\n",
        "    #preprocessing.Rescale(1./255) Keep for models like ResNet50V2 but EfficientNet(s)\n",
        "], name = \"data_augmentation\")"
      ],
      "metadata": {
        "id": "yD7c-IV9_0V6"
      },
      "execution_count": null,
      "outputs": []
    },
    {
      "cell_type": "markdown",
      "source": [
        "## Visualize our data augmentation layer (and see what happens to our data)"
      ],
      "metadata": {
        "id": "7P3xhknfBCSM"
      }
    },
    {
      "cell_type": "code",
      "source": [
        "# View a random image and compare it to its augmented version\n",
        "import matplotlib.pyplot as plt\n",
        "import matplotlib.image as mpimg\n",
        "import os\n",
        "import random\n",
        "\n",
        "target_class = random.choice(train_data_1_percent.class_names)\n",
        "target_dir = \"10_food_classes_1_percent/train/\" + target_class\n",
        "random_image = random.choice(os.listdir(target_dir))\n",
        "random_image_path = target_dir + \"/\" + random_image\n",
        "\n",
        "# Read in the random imagaeaa\n",
        "img = mpimg.imread(random_image_path)\n",
        "plt.imshow(img)\n",
        "plt.title(f\"Original random image from class {target_class}\")\n",
        "plt.axis(False)\n",
        "\n",
        "# Now let's plot our augmented random image\n",
        "augmented_img = data_augmentation(img, training = True)/ 255\n",
        "plt.figure()\n",
        "plt.imshow(augmented_img)\n",
        "plt.title(f\"Augmented random image from class: {target_class}\")\n",
        "plt.axis(False)"
      ],
      "metadata": {
        "colab": {
          "base_uri": "https://localhost:8080/",
          "height": 528
        },
        "id": "R6m_TaeXBGTa",
        "outputId": "9d193837-b1eb-43f8-fd98-083f26ffc8d0"
      },
      "execution_count": null,
      "outputs": [
        {
          "output_type": "execute_result",
          "data": {
            "text/plain": [
              "(-0.5, 421.5, 469.5, -0.5)"
            ]
          },
          "metadata": {},
          "execution_count": 67
        },
        {
          "output_type": "display_data",
          "data": {
            "text/plain": [
              "<Figure size 432x288 with 1 Axes>"
            ],
            "image/png": "[encoded data removed]"
          },
          "metadata": {
            "needs_background": "light"
          }
        },
        {
          "output_type": "display_data",
          "data": {
            "text/plain": [
              "<Figure size 432x288 with 1 Axes>"
            ],
            "image/png": "[encoded data removed]"
          },
          "metadata": {
            "needs_background": "light"
          }
        }
      ]
    },
    {
      "cell_type": "markdown",
      "source": [
        "## Model 2: Feature Extraction transfer learning on 1% of the data with data augmentation"
      ],
      "metadata": {
        "id": "JtitmozwOOsy"
      }
    },
    {
      "cell_type": "code",
      "source": [
        "# Setup input shape and base model, freezing the base model layers\n",
        "input_shape = (224, 224, 3)\n",
        "base_model = tf.keras.applications.EfficientNetB0(include_top = False)\n",
        "base_model.trainable = False\n",
        "\n",
        "# Create input layer\n",
        "inputs = tf.keras.Input(shape = input_shape, name = \"input_layer\")\n",
        "\n",
        "# Add in data augmentation Sequential model as a layer\n",
        "x = data_augmentation(inputs)\n",
        "\n",
        "# Give base_model the inputs (after augmentation) and don't train it\n",
        "x = base_model(x, training = False)\n",
        "\n",
        "# Pool output features of the base model\n",
        "x = layers.GlobalAveragePooling2D(name = \"global_average_pooling_layer\")(x)\n",
        "\n",
        "# Put a dense layer on as the output\n",
        "outputs = layers.Dense(10, activation = 'softmax', name = \"output_layer\")(x)\n",
        "\n",
        "# Make a model using the inputs and outputs\n",
        "model_1 = keras.Model(inputs, outputs)\n",
        "\n",
        "# Compile the model\n",
        "model_1.compile(loss = tf.keras.losses.CategoricalCrossentropy(),\n",
        "                optimizer = tf.keras.optimizers.Adam(),\n",
        "                metrics = [\"accuracy\"])\n",
        "\n",
        "# Fit the model\n",
        "history_1_percent = model_1.fit(train_data_1_percent,\n",
        "                                epochs = 5,\n",
        "                                steps_per_epoch = len(train_data_1_percent),\n",
        "                                validation_data = test_data,\n",
        "                                validation_steps = int(0.25 * len(test_data)),\n",
        "                                callbacks = [create_tensorboard_callback(dir_name = \"transfer_learning\",\n",
        "                                                                         experiment_name = \"1_percent_data_aug\")])"
      ],
      "metadata": {
        "id": "pDexsTx-OUBd",
        "outputId": "3e24e909-93de-4cd6-cb1b-c6ac7f20a52e",
        "colab": {
          "base_uri": "https://localhost:8080/"
        }
      },
      "execution_count": null,
      "outputs": [
        {
          "output_type": "stream",
          "name": "stderr",
          "text": [
            "WARNING:tensorflow:Model was constructed with shape (512, 512, 3) for input KerasTensor(type_spec=TensorSpec(shape=(512, 512, 3), dtype=tf.uint8, name='random_flip_2_input'), name='random_flip_2_input', description=\"created by layer 'random_flip_2_input'\"), but it was called on an input with incompatible shape (None, 224, 224, 3).\n"
          ]
        },
        {
          "output_type": "stream",
          "name": "stdout",
          "text": [
            "Saving TensorBoard log files to: transfer_learning/1_percent_data_aug/20220824-080534\n",
            "Epoch 1/5\n"
          ]
        },
        {
          "output_type": "stream",
          "name": "stderr",
          "text": [
            "WARNING:tensorflow:Model was constructed with shape (512, 512, 3) for input KerasTensor(type_spec=TensorSpec(shape=(512, 512, 3), dtype=tf.uint8, name='random_flip_2_input'), name='random_flip_2_input', description=\"created by layer 'random_flip_2_input'\"), but it was called on an input with incompatible shape (None, 224, 224, 3).\n",
            "WARNING:tensorflow:Model was constructed with shape (512, 512, 3) for input KerasTensor(type_spec=TensorSpec(shape=(512, 512, 3), dtype=tf.uint8, name='random_flip_2_input'), name='random_flip_2_input', description=\"created by layer 'random_flip_2_input'\"), but it was called on an input with incompatible shape (None, 224, 224, 3).\n"
          ]
        },
        {
          "output_type": "stream",
          "name": "stdout",
          "text": [
            "3/3 [==============================] - ETA: 0s - loss: 2.3940 - accuracy: 0.1143"
          ]
        },
        {
          "output_type": "stream",
          "name": "stderr",
          "text": [
            "WARNING:tensorflow:Model was constructed with shape (512, 512, 3) for input KerasTensor(type_spec=TensorSpec(shape=(512, 512, 3), dtype=tf.uint8, name='random_flip_2_input'), name='random_flip_2_input', description=\"created by layer 'random_flip_2_input'\"), but it was called on an input with incompatible shape (None, 224, 224, 3).\n"
          ]
        },
        {
          "output_type": "stream",
          "name": "stdout",
          "text": [
            "\b\b\b\b\b\b\b\b\b\b\b\b\b\b\b\b\b\b\b\b\b\b\b\b\b\b\b\b\b\b\b\b\b\b\b\b\b\b\b\b\b\b\b\b\b\b\b\b\b\b\b\b\b\b\b\b\b\b\b\b\b\b\b\b\b\b\b\b\b\b\b\b\b\b\b\b\b\b\b\b\r3/3 [==============================] - 11s 2s/step - loss: 2.3940 - accuracy: 0.1143 - val_loss: 2.2323 - val_accuracy: 0.1727\n",
            "Epoch 2/5\n",
            "3/3 [==============================] - 3s 1s/step - loss: 2.1934 - accuracy: 0.1857 - val_loss: 2.0921 - val_accuracy: 0.2582\n",
            "Epoch 3/5\n",
            "3/3 [==============================] - 3s 1s/step - loss: 2.0156 - accuracy: 0.3857 - val_loss: 2.0031 - val_accuracy: 0.3092\n",
            "Epoch 4/5\n",
            "3/3 [==============================] - 3s 1s/step - loss: 1.7879 - accuracy: 0.5143 - val_loss: 1.8937 - val_accuracy: 0.3799\n",
            "Epoch 5/5\n",
            "3/3 [==============================] - 2s 1s/step - loss: 1.6483 - accuracy: 0.6714 - val_loss: 1.7975 - val_accuracy: 0.4523\n"
          ]
        }
      ]
    },
    {
      "cell_type": "code",
      "source": [
        "model_1.summary()"
      ],
      "metadata": {
        "id": "zxNaX5eIevuv",
        "outputId": "a21ad905-14a7-4ede-d30e-82d4ab18b0d3",
        "colab": {
          "base_uri": "https://localhost:8080/"
        }
      },
      "execution_count": null,
      "outputs": [
        {
          "output_type": "stream",
          "name": "stdout",
          "text": [
            "Model: \"model_2\"\n",
            "_________________________________________________________________\n",
            " Layer (type)                Output Shape              Param #   \n",
            "=================================================================\n",
            " input_layer (InputLayer)    [(None, 224, 224, 3)]     0         \n",
            "                                                                 \n",
            " data_augmentation (Sequenti  (None, None, 3)          0         \n",
            " al)                                                             \n",
            "                                                                 \n",
            " efficientnetb0 (Functional)  (None, None, None, 1280)  4049571  \n",
            "                                                                 \n",
            " global_average_pooling_laye  (None, 1280)             0         \n",
            " r (GlobalAveragePooling2D)                                      \n",
            "                                                                 \n",
            " output_layer (Dense)        (None, 10)                12810     \n",
            "                                                                 \n",
            "=================================================================\n",
            "Total params: 4,062,381\n",
            "Trainable params: 12,810\n",
            "Non-trainable params: 4,049,571\n",
            "_________________________________________________________________\n"
          ]
        }
      ]
    },
    {
      "cell_type": "code",
      "source": [
        "# Evalute on the full test dataset\n",
        "results_1_percent_data_aug = model_1.evaluate(test_data)\n",
        "results_1_percent_data_aug"
      ],
      "metadata": {
        "id": "8AJ7im_0k0iv",
        "outputId": "1298a255-5c1f-4b38-980e-a64aa9283af4",
        "colab": {
          "base_uri": "https://localhost:8080/"
        }
      },
      "execution_count": null,
      "outputs": [
        {
          "output_type": "stream",
          "name": "stdout",
          "text": [
            "79/79 [==============================] - 6s 75ms/step - loss: 1.8269 - accuracy: 0.4304\n"
          ]
        },
        {
          "output_type": "execute_result",
          "data": {
            "text/plain": [
              "[1.8268945217132568, 0.430400013923645]"
            ]
          },
          "metadata": {},
          "execution_count": 70
        }
      ]
    },
    {
      "cell_type": "code",
      "source": [
        "# How does the model with 1% of the and data augmentation loss curves look?\n",
        "plot_loss_curves(history_1_percent)"
      ],
      "metadata": {
        "id": "O_NPVO75lKB9",
        "outputId": "ac1dc88b-5f4e-44d8-e2eb-7f11d21c6523",
        "colab": {
          "base_uri": "https://localhost:8080/",
          "height": 573
        }
      },
      "execution_count": null,
      "outputs": [
        {
          "output_type": "display_data",
          "data": {
            "text/plain": [
              "<Figure size 432x288 with 1 Axes>"
            ],
            "image/png": "[encoded data removed]"
          },
          "metadata": {
            "needs_background": "light"
          }
        },
        {
          "output_type": "display_data",
          "data": {
            "text/plain": [
              "<Figure size 432x288 with 1 Axes>"
            ],
            "image/png": "[encoded data removed]"
          },
          "metadata": {
            "needs_background": "light"
          }
        }
      ]
    },
    {
      "cell_type": "markdown",
      "source": [
        "## Model 2: Feature exraction transfer laerning model with 10% of data and data augmentation"
      ],
      "metadata": {
        "id": "YUaPHxnEcIpd"
      }
    },
    {
      "cell_type": "code",
      "source": [
        "!wget https://storage.googleapis.com/ztm_tf_course/food_vision/10_food_classes_10_percent.zip"
      ],
      "metadata": {
        "colab": {
          "base_uri": "https://localhost:8080/"
        },
        "id": "iPZKNO7ncN0D",
        "outputId": "cf5b2517-c3f9-4a71-ab5a-bf3f68d8b41a"
      },
      "execution_count": null,
      "outputs": [
        {
          "output_type": "stream",
          "name": "stdout",
          "text": [
            "--2022-08-24 08:06:10--  https://storage.googleapis.com/ztm_tf_course/food_vision/10_food_classes_10_percent.zip\n",
            "Resolving storage.googleapis.com (storage.googleapis.com)... 74.125.199.128, 74.125.20.128, 108.177.98.128, ...\n",
            "Connecting to storage.googleapis.com (storage.googleapis.com)|74.125.199.128|:443... connected.\n",
            "HTTP request sent, awaiting response... 200 OK\n",
            "Length: 168546183 (161M) [application/zip]\n",
            "Saving to: ‘10_food_classes_10_percent.zip.1’\n",
            "\n",
            "10_food_classes_10_ 100%[===================>] 160.74M   143MB/s    in 1.1s    \n",
            "\n",
            "2022-08-24 08:06:11 (143 MB/s) - ‘10_food_classes_10_percent.zip.1’ saved [168546183/168546183]\n",
            "\n"
          ]
        }
      ]
    },
    {
      "cell_type": "code",
      "source": [
        "unzip_data(\"10_food_classes_10_percent.zip\")"
      ],
      "metadata": {
        "id": "zLt3wT8KcXuc"
      },
      "execution_count": null,
      "outputs": []
    },
    {
      "cell_type": "code",
      "source": [
        "train_dir_10_percent = \"10_food_classes_10_percent/train\"\n",
        "test_dir = \"10_food_classes_10_percent/test\""
      ],
      "metadata": {
        "id": "L-Ic5hFpce2Q"
      },
      "execution_count": null,
      "outputs": []
    },
    {
      "cell_type": "code",
      "source": [
        "# How many images are in our directories?\n",
        "walk_through_dir(\"10_food_classes_10_percent\")"
      ],
      "metadata": {
        "colab": {
          "base_uri": "https://localhost:8080/"
        },
        "id": "CCJKsMCsdV2n",
        "outputId": "11b71f32-c3dc-4396-cae1-7a4171256b87"
      },
      "execution_count": null,
      "outputs": [
        {
          "output_type": "stream",
          "name": "stdout",
          "text": [
            "There are 2 directories and 0 images in '10_food_classes_10_percent'.\n",
            "There are 10 directories and 0 images in '10_food_classes_10_percent/train'.\n",
            "There are 0 directories and 75 images in '10_food_classes_10_percent/train/fried_rice'.\n",
            "There are 0 directories and 75 images in '10_food_classes_10_percent/train/sushi'.\n",
            "There are 0 directories and 75 images in '10_food_classes_10_percent/train/chicken_wings'.\n",
            "There are 0 directories and 75 images in '10_food_classes_10_percent/train/hamburger'.\n",
            "There are 0 directories and 75 images in '10_food_classes_10_percent/train/chicken_curry'.\n",
            "There are 0 directories and 75 images in '10_food_classes_10_percent/train/ice_cream'.\n",
            "There are 0 directories and 75 images in '10_food_classes_10_percent/train/ramen'.\n",
            "There are 0 directories and 75 images in '10_food_classes_10_percent/train/steak'.\n",
            "There are 0 directories and 75 images in '10_food_classes_10_percent/train/pizza'.\n",
            "There are 0 directories and 75 images in '10_food_classes_10_percent/train/grilled_salmon'.\n",
            "There are 10 directories and 0 images in '10_food_classes_10_percent/test'.\n",
            "There are 0 directories and 250 images in '10_food_classes_10_percent/test/fried_rice'.\n",
            "There are 0 directories and 250 images in '10_food_classes_10_percent/test/sushi'.\n",
            "There are 0 directories and 250 images in '10_food_classes_10_percent/test/chicken_wings'.\n",
            "There are 0 directories and 250 images in '10_food_classes_10_percent/test/hamburger'.\n",
            "There are 0 directories and 250 images in '10_food_classes_10_percent/test/chicken_curry'.\n",
            "There are 0 directories and 250 images in '10_food_classes_10_percent/test/ice_cream'.\n",
            "There are 0 directories and 250 images in '10_food_classes_10_percent/test/ramen'.\n",
            "There are 0 directories and 250 images in '10_food_classes_10_percent/test/steak'.\n",
            "There are 0 directories and 250 images in '10_food_classes_10_percent/test/pizza'.\n",
            "There are 0 directories and 250 images in '10_food_classes_10_percent/test/grilled_salmon'.\n"
          ]
        }
      ]
    },
    {
      "cell_type": "code",
      "source": [
        "# Set data inputs\n",
        "IMG_SIZE = (224, 224)\n",
        "train_data_10_percent = tf.keras.preprocessing.image_dataset_from_directory(train_dir_10_percent,\n",
        "                                                                            label_mode = 'categorical',\n",
        "                                                                            image_size = IMG_SIZE)\n",
        "\n",
        "test_data = tf.keras.preprocessing.image_dataset_from_directory(directory = test_dir,\n",
        "                                                                label_mode = 'categorical',\n",
        "                                                                image_size = IMG_SIZE)"
      ],
      "metadata": {
        "colab": {
          "base_uri": "https://localhost:8080/"
        },
        "id": "q5RmHBDpcrWz",
        "outputId": "8615709f-e408-4683-e33f-711dd4d49c85"
      },
      "execution_count": null,
      "outputs": [
        {
          "output_type": "stream",
          "name": "stdout",
          "text": [
            "Found 750 files belonging to 10 classes.\n",
            "Found 2500 files belonging to 10 classes.\n"
          ]
        }
      ]
    },
    {
      "cell_type": "code",
      "source": [
        "# Create model 2 with data augmentation built in\n",
        "from tensorflow.keras import layers\n",
        "from tensorflow.keras.layers.experimental import preprocessing\n",
        "from tensorflow.keras.models import Sequential\n",
        "\n",
        "# Build data augmentation layer\n",
        "data_augmentation = Sequential([\n",
        "    preprocessing.RandomFlip(\"horizontal\"),\n",
        "    preprocessing.RandomHeight(0.2),\n",
        "    preprocessing.RandomWidth(0.2),\n",
        "    preprocessing.RandomZoom(0.2),\n",
        "    preprocessing.RandomRotation(0.2)\n",
        "    # preprocessing.Rescaling(1./255) # if you're using a model such as ResNet50V2, you'll need to rescale your data, efficientnet has rescaling built-in\n",
        "], name = \"data_augmentation\")\n",
        "\n",
        "# Setup the input shape to our model\n",
        "input_shape = (224, 224, 3)\n",
        "\n",
        "# Create a frozen base model (also called the backbone)\n",
        "base_model = tf.keras.applications.EfficientNetB0(include_top = False)\n",
        "base_model.trainable = False\n",
        "\n",
        "# Create the inputs and outputs (including the layers in between)\n",
        "inputs = layers.Input(shape = input_shape, name = \"input_layer\")\n",
        "x = data_augmentation(inputs) # augment our training images (augmentation doesn't occur on test data)\n",
        "x = base_model(x, training = False) # pass augmented images to base model but keep it in inference mode, this also insures batchnorm layers don't get updated\n",
        "x = layers.GlobalAveragePooling2D(name = \"global_average_pooling_2D\")(x)\n",
        "outputs = layers.Dense(10, activation = 'softmax', name = \"output_layer\")(x)\n",
        "model_2 = tf.keras.Model(inputs, outputs)\n",
        "\n",
        "# Compile \n",
        "model_2.compile(loss = tf.keras.losses.CategoricalCrossentropy(),\n",
        "                optimizer = tf.keras.optimizers.Adam(),\n",
        "                metrics = [\"accuracy\"])\n",
        "\n"
      ],
      "metadata": {
        "id": "W5NacbV_dOTW"
      },
      "execution_count": null,
      "outputs": []
    },
    {
      "cell_type": "markdown",
      "source": [
        "### Creating a ModelCheckpoint callback\n",
        "\n",
        "The ModelCheckpoint callback intermediately saves our model\n",
        "(the full model our just the weights) during training. This is useful so we can come and start where we left off."
      ],
      "metadata": {
        "id": "zR1T_5pBhqU1"
      }
    },
    {
      "cell_type": "code",
      "source": [
        ""
      ],
      "metadata": {
        "id": "rp8hx4sbimUd"
      },
      "execution_count": null,
      "outputs": []
    },
    {
      "cell_type": "code",
      "source": [
        "# Set checkpoint path\n",
        "checkpoint_path = \"ten_percent_model_checkpoint_weights/checkpoint.ckpt\"\n",
        "\n",
        "# Create a ModelCheckpoint callback that saves our model's weights only\n",
        "checkpoint_callback = tf.keras.callbacks.ModelCheckpoint(filepath = checkpoint_path,\n",
        "                                                         save_weights_only = True,\n",
        "                                                         save_best_only = False,\n",
        "                                                         save_freq = \"epoch\",\n",
        "                                                         verbose = 1)"
      ],
      "metadata": {
        "id": "UQk2OPBshuDW"
      },
      "execution_count": null,
      "outputs": []
    },
    {
      "cell_type": "markdown",
      "source": [
        "### Fit model 2 passing in the ModelCheckpoint callback"
      ],
      "metadata": {
        "id": "wBgpVPCli9nM"
      }
    },
    {
      "cell_type": "code",
      "source": [
        "# Fit the model saving checkpoints\n",
        "initial_epochs = 5\n",
        "history_10_percent_data_aug = model_2.fit(train_data_10_percent,\n",
        "                                          epochs = initial_epochs,\n",
        "                                          validation_data = test_data,\n",
        "                                          validation_steps = int(0.25 * len(test_data)),\n",
        "                                          callbacks = [create_tensorboard_callback(dir_name = \"transfer_learning\",\n",
        "                                                                                   experiment_name = \"10_percent_data_aug\"),\n",
        "                                                                                   checkpoint_callback])"
      ],
      "metadata": {
        "colab": {
          "base_uri": "https://localhost:8080/"
        },
        "id": "S6fzHPVVi7e5",
        "outputId": "27475b94-4e45-43c6-cb92-0d622af29bc0"
      },
      "execution_count": null,
      "outputs": [
        {
          "output_type": "stream",
          "name": "stdout",
          "text": [
            "Saving TensorBoard log files to: transfer_learning/10_percent_data_aug/20220824-080616\n",
            "Epoch 1/5\n",
            "24/24 [==============================] - ETA: 0s - loss: 2.0030 - accuracy: 0.3453\n",
            "Epoch 1: saving model to ten_percent_model_checkpoint_weights/checkpoint.ckpt\n",
            "24/24 [==============================] - 16s 324ms/step - loss: 2.0030 - accuracy: 0.3453 - val_loss: 1.5374 - val_accuracy: 0.6168\n",
            "Epoch 2/5\n",
            "24/24 [==============================] - ETA: 0s - loss: 1.3503 - accuracy: 0.6800\n",
            "Epoch 2: saving model to ten_percent_model_checkpoint_weights/checkpoint.ckpt\n",
            "24/24 [==============================] - 6s 253ms/step - loss: 1.3503 - accuracy: 0.6800 - val_loss: 1.0894 - val_accuracy: 0.7451\n",
            "Epoch 3/5\n",
            "24/24 [==============================] - ETA: 0s - loss: 1.0829 - accuracy: 0.7333\n",
            "Epoch 3: saving model to ten_percent_model_checkpoint_weights/checkpoint.ckpt\n",
            "24/24 [==============================] - 7s 267ms/step - loss: 1.0829 - accuracy: 0.7333 - val_loss: 0.9259 - val_accuracy: 0.7500\n",
            "Epoch 4/5\n",
            "24/24 [==============================] - ETA: 0s - loss: 0.9423 - accuracy: 0.7680\n",
            "Epoch 4: saving model to ten_percent_model_checkpoint_weights/checkpoint.ckpt\n",
            "24/24 [==============================] - 6s 227ms/step - loss: 0.9423 - accuracy: 0.7680 - val_loss: 0.8187 - val_accuracy: 0.7599\n",
            "Epoch 5/5\n",
            "24/24 [==============================] - ETA: 0s - loss: 0.8047 - accuracy: 0.8000\n",
            "Epoch 5: saving model to ten_percent_model_checkpoint_weights/checkpoint.ckpt\n",
            "24/24 [==============================] - 7s 276ms/step - loss: 0.8047 - accuracy: 0.8000 - val_loss: 0.7632 - val_accuracy: 0.7632\n"
          ]
        }
      ]
    },
    {
      "cell_type": "code",
      "source": [
        "# Plot model loss curves\n",
        "plot_loss_curves(history_10_percent_data_aug)"
      ],
      "metadata": {
        "colab": {
          "base_uri": "https://localhost:8080/",
          "height": 573
        },
        "id": "LK2UEBbOjkka",
        "outputId": "9b590000-5302-469b-8b0f-afd39efb5586"
      },
      "execution_count": null,
      "outputs": [
        {
          "output_type": "display_data",
          "data": {
            "text/plain": [
              "<Figure size 432x288 with 1 Axes>"
            ],
            "image/png": "[encoded data removed]"
          },
          "metadata": {
            "needs_background": "light"
          }
        },
        {
          "output_type": "display_data",
          "data": {
            "text/plain": [
              "<Figure size 432x288 with 1 Axes>"
            ],
            "image/png": "[encoded data removed]"
          },
          "metadata": {
            "needs_background": "light"
          }
        }
      ]
    },
    {
      "cell_type": "markdown",
      "source": [
        "### Model 3: Fine-tuning an existing model on 10% of the data\n",
        "\n",
        "> **Note:** Fine-tuning usually works best *after* training a feature extraction model for a few epochs with large amounts of custom data"
      ],
      "metadata": {
        "id": "6nU1YDCgXYkK"
      }
    },
    {
      "cell_type": "code",
      "source": [
        "model_2.layers"
      ],
      "metadata": {
        "id": "2OxPnQ9PXb5a",
        "colab": {
          "base_uri": "https://localhost:8080/"
        },
        "outputId": "f7aa4592-370c-4308-c263-192e01e0d85d"
      },
      "execution_count": null,
      "outputs": [
        {
          "output_type": "execute_result",
          "data": {
            "text/plain": [
              "[<keras.engine.input_layer.InputLayer at 0x7f428da4e5d0>,\n",
              " <keras.engine.sequential.Sequential at 0x7f428ddc67d0>,\n",
              " <keras.engine.functional.Functional at 0x7f4324c17490>,\n",
              " <keras.layers.pooling.GlobalAveragePooling2D at 0x7f428d6abf50>,\n",
              " <keras.layers.core.dense.Dense at 0x7f428d3ca790>]"
            ]
          },
          "metadata": {},
          "execution_count": 81
        }
      ]
    },
    {
      "cell_type": "code",
      "source": [
        "# Are these layers trainable?\n",
        "for layer in model_2.layers:\n",
        "  print(layer, layer.trainable)"
      ],
      "metadata": {
        "colab": {
          "base_uri": "https://localhost:8080/"
        },
        "id": "-7MMttWWV4Sj",
        "outputId": "6f8de45d-e3c6-40d9-b5c9-eafba80868d3"
      },
      "execution_count": null,
      "outputs": [
        {
          "output_type": "stream",
          "name": "stdout",
          "text": [
            "<keras.engine.input_layer.InputLayer object at 0x7f428da4e5d0> True\n",
            "<keras.engine.sequential.Sequential object at 0x7f428ddc67d0> True\n",
            "<keras.engine.functional.Functional object at 0x7f4324c17490> False\n",
            "<keras.layers.pooling.GlobalAveragePooling2D object at 0x7f428d6abf50> True\n",
            "<keras.layers.core.dense.Dense object at 0x7f428d3ca790> True\n"
          ]
        }
      ]
    },
    {
      "cell_type": "code",
      "source": [
        "# What layera are n our base_model (EfficientNetB0) are they trainable?\n",
        "for i, layer in enumerate(model_2.layers[2].layers):\n",
        "  print(i, layer.name, layer.trainable)"
      ],
      "metadata": {
        "id": "I6HXASLLWGAK",
        "colab": {
          "base_uri": "https://localhost:8080/"
        },
        "outputId": "e549a954-2f8b-43e2-966a-014692b732f0"
      },
      "execution_count": null,
      "outputs": [
        {
          "output_type": "stream",
          "name": "stdout",
          "text": [
            "0 input_4 False\n",
            "1 rescaling_3 False\n",
            "2 normalization_3 False\n",
            "3 stem_conv_pad False\n",
            "4 stem_conv False\n",
            "5 stem_bn False\n",
            "6 stem_activation False\n",
            "7 block1a_dwconv False\n",
            "8 block1a_bn False\n",
            "9 block1a_activation False\n",
            "10 block1a_se_squeeze False\n",
            "11 block1a_se_reshape False\n",
            "12 block1a_se_reduce False\n",
            "13 block1a_se_expand False\n",
            "14 block1a_se_excite False\n",
            "15 block1a_project_conv False\n",
            "16 block1a_project_bn False\n",
            "17 block2a_expand_conv False\n",
            "18 block2a_expand_bn False\n",
            "19 block2a_expand_activation False\n",
            "20 block2a_dwconv_pad False\n",
            "21 block2a_dwconv False\n",
            "22 block2a_bn False\n",
            "23 block2a_activation False\n",
            "24 block2a_se_squeeze False\n",
            "25 block2a_se_reshape False\n",
            "26 block2a_se_reduce False\n",
            "27 block2a_se_expand False\n",
            "28 block2a_se_excite False\n",
            "29 block2a_project_conv False\n",
            "30 block2a_project_bn False\n",
            "31 block2b_expand_conv False\n",
            "32 block2b_expand_bn False\n",
            "33 block2b_expand_activation False\n",
            "34 block2b_dwconv False\n",
            "35 block2b_bn False\n",
            "36 block2b_activation False\n",
            "37 block2b_se_squeeze False\n",
            "38 block2b_se_reshape False\n",
            "39 block2b_se_reduce False\n",
            "40 block2b_se_expand False\n",
            "41 block2b_se_excite False\n",
            "42 block2b_project_conv False\n",
            "43 block2b_project_bn False\n",
            "44 block2b_drop False\n",
            "45 block2b_add False\n",
            "46 block3a_expand_conv False\n",
            "47 block3a_expand_bn False\n",
            "48 block3a_expand_activation False\n",
            "49 block3a_dwconv_pad False\n",
            "50 block3a_dwconv False\n",
            "51 block3a_bn False\n",
            "52 block3a_activation False\n",
            "53 block3a_se_squeeze False\n",
            "54 block3a_se_reshape False\n",
            "55 block3a_se_reduce False\n",
            "56 block3a_se_expand False\n",
            "57 block3a_se_excite False\n",
            "58 block3a_project_conv False\n",
            "59 block3a_project_bn False\n",
            "60 block3b_expand_conv False\n",
            "61 block3b_expand_bn False\n",
            "62 block3b_expand_activation False\n",
            "63 block3b_dwconv False\n",
            "64 block3b_bn False\n",
            "65 block3b_activation False\n",
            "66 block3b_se_squeeze False\n",
            "67 block3b_se_reshape False\n",
            "68 block3b_se_reduce False\n",
            "69 block3b_se_expand False\n",
            "70 block3b_se_excite False\n",
            "71 block3b_project_conv False\n",
            "72 block3b_project_bn False\n",
            "73 block3b_drop False\n",
            "74 block3b_add False\n",
            "75 block4a_expand_conv False\n",
            "76 block4a_expand_bn False\n",
            "77 block4a_expand_activation False\n",
            "78 block4a_dwconv_pad False\n",
            "79 block4a_dwconv False\n",
            "80 block4a_bn False\n",
            "81 block4a_activation False\n",
            "82 block4a_se_squeeze False\n",
            "83 block4a_se_reshape False\n",
            "84 block4a_se_reduce False\n",
            "85 block4a_se_expand False\n",
            "86 block4a_se_excite False\n",
            "87 block4a_project_conv False\n",
            "88 block4a_project_bn False\n",
            "89 block4b_expand_conv False\n",
            "90 block4b_expand_bn False\n",
            "91 block4b_expand_activation False\n",
            "92 block4b_dwconv False\n",
            "93 block4b_bn False\n",
            "94 block4b_activation False\n",
            "95 block4b_se_squeeze False\n",
            "96 block4b_se_reshape False\n",
            "97 block4b_se_reduce False\n",
            "98 block4b_se_expand False\n",
            "99 block4b_se_excite False\n",
            "100 block4b_project_conv False\n",
            "101 block4b_project_bn False\n",
            "102 block4b_drop False\n",
            "103 block4b_add False\n",
            "104 block4c_expand_conv False\n",
            "105 block4c_expand_bn False\n",
            "106 block4c_expand_activation False\n",
            "107 block4c_dwconv False\n",
            "108 block4c_bn False\n",
            "109 block4c_activation False\n",
            "110 block4c_se_squeeze False\n",
            "111 block4c_se_reshape False\n",
            "112 block4c_se_reduce False\n",
            "113 block4c_se_expand False\n",
            "114 block4c_se_excite False\n",
            "115 block4c_project_conv False\n",
            "116 block4c_project_bn False\n",
            "117 block4c_drop False\n",
            "118 block4c_add False\n",
            "119 block5a_expand_conv False\n",
            "120 block5a_expand_bn False\n",
            "121 block5a_expand_activation False\n",
            "122 block5a_dwconv False\n",
            "123 block5a_bn False\n",
            "124 block5a_activation False\n",
            "125 block5a_se_squeeze False\n",
            "126 block5a_se_reshape False\n",
            "127 block5a_se_reduce False\n",
            "128 block5a_se_expand False\n",
            "129 block5a_se_excite False\n",
            "130 block5a_project_conv False\n",
            "131 block5a_project_bn False\n",
            "132 block5b_expand_conv False\n",
            "133 block5b_expand_bn False\n",
            "134 block5b_expand_activation False\n",
            "135 block5b_dwconv False\n",
            "136 block5b_bn False\n",
            "137 block5b_activation False\n",
            "138 block5b_se_squeeze False\n",
            "139 block5b_se_reshape False\n",
            "140 block5b_se_reduce False\n",
            "141 block5b_se_expand False\n",
            "142 block5b_se_excite False\n",
            "143 block5b_project_conv False\n",
            "144 block5b_project_bn False\n",
            "145 block5b_drop False\n",
            "146 block5b_add False\n",
            "147 block5c_expand_conv False\n",
            "148 block5c_expand_bn False\n",
            "149 block5c_expand_activation False\n",
            "150 block5c_dwconv False\n",
            "151 block5c_bn False\n",
            "152 block5c_activation False\n",
            "153 block5c_se_squeeze False\n",
            "154 block5c_se_reshape False\n",
            "155 block5c_se_reduce False\n",
            "156 block5c_se_expand False\n",
            "157 block5c_se_excite False\n",
            "158 block5c_project_conv False\n",
            "159 block5c_project_bn False\n",
            "160 block5c_drop False\n",
            "161 block5c_add False\n",
            "162 block6a_expand_conv False\n",
            "163 block6a_expand_bn False\n",
            "164 block6a_expand_activation False\n",
            "165 block6a_dwconv_pad False\n",
            "166 block6a_dwconv False\n",
            "167 block6a_bn False\n",
            "168 block6a_activation False\n",
            "169 block6a_se_squeeze False\n",
            "170 block6a_se_reshape False\n",
            "171 block6a_se_reduce False\n",
            "172 block6a_se_expand False\n",
            "173 block6a_se_excite False\n",
            "174 block6a_project_conv False\n",
            "175 block6a_project_bn False\n",
            "176 block6b_expand_conv False\n",
            "177 block6b_expand_bn False\n",
            "178 block6b_expand_activation False\n",
            "179 block6b_dwconv False\n",
            "180 block6b_bn False\n",
            "181 block6b_activation False\n",
            "182 block6b_se_squeeze False\n",
            "183 block6b_se_reshape False\n",
            "184 block6b_se_reduce False\n",
            "185 block6b_se_expand False\n",
            "186 block6b_se_excite False\n",
            "187 block6b_project_conv False\n",
            "188 block6b_project_bn False\n",
            "189 block6b_drop False\n",
            "190 block6b_add False\n",
            "191 block6c_expand_conv False\n",
            "192 block6c_expand_bn False\n",
            "193 block6c_expand_activation False\n",
            "194 block6c_dwconv False\n",
            "195 block6c_bn False\n",
            "196 block6c_activation False\n",
            "197 block6c_se_squeeze False\n",
            "198 block6c_se_reshape False\n",
            "199 block6c_se_reduce False\n",
            "200 block6c_se_expand False\n",
            "201 block6c_se_excite False\n",
            "202 block6c_project_conv False\n",
            "203 block6c_project_bn False\n",
            "204 block6c_drop False\n",
            "205 block6c_add False\n",
            "206 block6d_expand_conv False\n",
            "207 block6d_expand_bn False\n",
            "208 block6d_expand_activation False\n",
            "209 block6d_dwconv False\n",
            "210 block6d_bn False\n",
            "211 block6d_activation False\n",
            "212 block6d_se_squeeze False\n",
            "213 block6d_se_reshape False\n",
            "214 block6d_se_reduce False\n",
            "215 block6d_se_expand False\n",
            "216 block6d_se_excite False\n",
            "217 block6d_project_conv False\n",
            "218 block6d_project_bn False\n",
            "219 block6d_drop False\n",
            "220 block6d_add False\n",
            "221 block7a_expand_conv False\n",
            "222 block7a_expand_bn False\n",
            "223 block7a_expand_activation False\n",
            "224 block7a_dwconv False\n",
            "225 block7a_bn False\n",
            "226 block7a_activation False\n",
            "227 block7a_se_squeeze False\n",
            "228 block7a_se_reshape False\n",
            "229 block7a_se_reduce False\n",
            "230 block7a_se_expand False\n",
            "231 block7a_se_excite False\n",
            "232 block7a_project_conv False\n",
            "233 block7a_project_bn False\n",
            "234 top_conv False\n",
            "235 top_bn False\n",
            "236 top_activation False\n"
          ]
        }
      ]
    },
    {
      "cell_type": "code",
      "source": [
        "# How many trainable variables are in our base model?\n",
        "print(len(model_2.layers[2].trainable_variables))"
      ],
      "metadata": {
        "colab": {
          "base_uri": "https://localhost:8080/"
        },
        "id": "ptAfs-ZZG5-T",
        "outputId": "77b542f9-87f4-4e53-f0a5-67d80b97a958"
      },
      "execution_count": null,
      "outputs": [
        {
          "output_type": "stream",
          "name": "stdout",
          "text": [
            "0\n"
          ]
        }
      ]
    },
    {
      "cell_type": "code",
      "source": [
        "# To begin fine-tuning ,let's start by setting the last 10 layers of or base_mode.trainable = True\n",
        "base_model.trainable = True\n",
        "\n",
        "# Freeze all layers except for the last 10\n",
        "for layer in base_model.layers[:-10]:\n",
        "  layer.trainable = False\n",
        "\n",
        "# Recompile (we ahve to recompile our models every time we make a change)\n",
        "model_2.compile(loss = tf.keras.losses.CategoricalCrossentropy(),\n",
        "                optimizer = tf.keras.optimizers.Adam(learning_rate = 0.0001), # when fine-tuning you typically want to lower the learning rate by 10x*\n",
        "                metrics = [\"accuracy\"])"
      ],
      "metadata": {
        "id": "l78zUs18NnOW"
      },
      "execution_count": null,
      "outputs": []
    },
    {
      "cell_type": "markdown",
      "source": [
        "**Note:** When using fine-tuning it's best pratice to lower your learning rate by some amount. How much? This is a hyperparamter you can tune, But a good rule of thumb is at least 10x (thouhg diffrenet sources will claim other values)\n",
        "A good resource for information on tihs is the ULMFIT paper. https://arxiv.org/abs/1801.06146"
      ],
      "metadata": {
        "id": "ywJie09DP720"
      }
    },
    {
      "cell_type": "code",
      "source": [
        "# Check which layers are tuanable (trainable)\n",
        "for layer_number, layer in enumerate(model_2.layers[2].layers):\n",
        "    print(layer_number, layer.name, layer.trainable)"
      ],
      "metadata": {
        "colab": {
          "base_uri": "https://localhost:8080/"
        },
        "id": "TOAtgw-jOSnw",
        "outputId": "9f1fdc01-3d83-4791-ae4e-5aea34a5fc79"
      },
      "execution_count": null,
      "outputs": [
        {
          "output_type": "stream",
          "name": "stdout",
          "text": [
            "0 input_4 False\n",
            "1 rescaling_3 False\n",
            "2 normalization_3 False\n",
            "3 stem_conv_pad False\n",
            "4 stem_conv False\n",
            "5 stem_bn False\n",
            "6 stem_activation False\n",
            "7 block1a_dwconv False\n",
            "8 block1a_bn False\n",
            "9 block1a_activation False\n",
            "10 block1a_se_squeeze False\n",
            "11 block1a_se_reshape False\n",
            "12 block1a_se_reduce False\n",
            "13 block1a_se_expand False\n",
            "14 block1a_se_excite False\n",
            "15 block1a_project_conv False\n",
            "16 block1a_project_bn False\n",
            "17 block2a_expand_conv False\n",
            "18 block2a_expand_bn False\n",
            "19 block2a_expand_activation False\n",
            "20 block2a_dwconv_pad False\n",
            "21 block2a_dwconv False\n",
            "22 block2a_bn False\n",
            "23 block2a_activation False\n",
            "24 block2a_se_squeeze False\n",
            "25 block2a_se_reshape False\n",
            "26 block2a_se_reduce False\n",
            "27 block2a_se_expand False\n",
            "28 block2a_se_excite False\n",
            "29 block2a_project_conv False\n",
            "30 block2a_project_bn False\n",
            "31 block2b_expand_conv False\n",
            "32 block2b_expand_bn False\n",
            "33 block2b_expand_activation False\n",
            "34 block2b_dwconv False\n",
            "35 block2b_bn False\n",
            "36 block2b_activation False\n",
            "37 block2b_se_squeeze False\n",
            "38 block2b_se_reshape False\n",
            "39 block2b_se_reduce False\n",
            "40 block2b_se_expand False\n",
            "41 block2b_se_excite False\n",
            "42 block2b_project_conv False\n",
            "43 block2b_project_bn False\n",
            "44 block2b_drop False\n",
            "45 block2b_add False\n",
            "46 block3a_expand_conv False\n",
            "47 block3a_expand_bn False\n",
            "48 block3a_expand_activation False\n",
            "49 block3a_dwconv_pad False\n",
            "50 block3a_dwconv False\n",
            "51 block3a_bn False\n",
            "52 block3a_activation False\n",
            "53 block3a_se_squeeze False\n",
            "54 block3a_se_reshape False\n",
            "55 block3a_se_reduce False\n",
            "56 block3a_se_expand False\n",
            "57 block3a_se_excite False\n",
            "58 block3a_project_conv False\n",
            "59 block3a_project_bn False\n",
            "60 block3b_expand_conv False\n",
            "61 block3b_expand_bn False\n",
            "62 block3b_expand_activation False\n",
            "63 block3b_dwconv False\n",
            "64 block3b_bn False\n",
            "65 block3b_activation False\n",
            "66 block3b_se_squeeze False\n",
            "67 block3b_se_reshape False\n",
            "68 block3b_se_reduce False\n",
            "69 block3b_se_expand False\n",
            "70 block3b_se_excite False\n",
            "71 block3b_project_conv False\n",
            "72 block3b_project_bn False\n",
            "73 block3b_drop False\n",
            "74 block3b_add False\n",
            "75 block4a_expand_conv False\n",
            "76 block4a_expand_bn False\n",
            "77 block4a_expand_activation False\n",
            "78 block4a_dwconv_pad False\n",
            "79 block4a_dwconv False\n",
            "80 block4a_bn False\n",
            "81 block4a_activation False\n",
            "82 block4a_se_squeeze False\n",
            "83 block4a_se_reshape False\n",
            "84 block4a_se_reduce False\n",
            "85 block4a_se_expand False\n",
            "86 block4a_se_excite False\n",
            "87 block4a_project_conv False\n",
            "88 block4a_project_bn False\n",
            "89 block4b_expand_conv False\n",
            "90 block4b_expand_bn False\n",
            "91 block4b_expand_activation False\n",
            "92 block4b_dwconv False\n",
            "93 block4b_bn False\n",
            "94 block4b_activation False\n",
            "95 block4b_se_squeeze False\n",
            "96 block4b_se_reshape False\n",
            "97 block4b_se_reduce False\n",
            "98 block4b_se_expand False\n",
            "99 block4b_se_excite False\n",
            "100 block4b_project_conv False\n",
            "101 block4b_project_bn False\n",
            "102 block4b_drop False\n",
            "103 block4b_add False\n",
            "104 block4c_expand_conv False\n",
            "105 block4c_expand_bn False\n",
            "106 block4c_expand_activation False\n",
            "107 block4c_dwconv False\n",
            "108 block4c_bn False\n",
            "109 block4c_activation False\n",
            "110 block4c_se_squeeze False\n",
            "111 block4c_se_reshape False\n",
            "112 block4c_se_reduce False\n",
            "113 block4c_se_expand False\n",
            "114 block4c_se_excite False\n",
            "115 block4c_project_conv False\n",
            "116 block4c_project_bn False\n",
            "117 block4c_drop False\n",
            "118 block4c_add False\n",
            "119 block5a_expand_conv False\n",
            "120 block5a_expand_bn False\n",
            "121 block5a_expand_activation False\n",
            "122 block5a_dwconv False\n",
            "123 block5a_bn False\n",
            "124 block5a_activation False\n",
            "125 block5a_se_squeeze False\n",
            "126 block5a_se_reshape False\n",
            "127 block5a_se_reduce False\n",
            "128 block5a_se_expand False\n",
            "129 block5a_se_excite False\n",
            "130 block5a_project_conv False\n",
            "131 block5a_project_bn False\n",
            "132 block5b_expand_conv False\n",
            "133 block5b_expand_bn False\n",
            "134 block5b_expand_activation False\n",
            "135 block5b_dwconv False\n",
            "136 block5b_bn False\n",
            "137 block5b_activation False\n",
            "138 block5b_se_squeeze False\n",
            "139 block5b_se_reshape False\n",
            "140 block5b_se_reduce False\n",
            "141 block5b_se_expand False\n",
            "142 block5b_se_excite False\n",
            "143 block5b_project_conv False\n",
            "144 block5b_project_bn False\n",
            "145 block5b_drop False\n",
            "146 block5b_add False\n",
            "147 block5c_expand_conv False\n",
            "148 block5c_expand_bn False\n",
            "149 block5c_expand_activation False\n",
            "150 block5c_dwconv False\n",
            "151 block5c_bn False\n",
            "152 block5c_activation False\n",
            "153 block5c_se_squeeze False\n",
            "154 block5c_se_reshape False\n",
            "155 block5c_se_reduce False\n",
            "156 block5c_se_expand False\n",
            "157 block5c_se_excite False\n",
            "158 block5c_project_conv False\n",
            "159 block5c_project_bn False\n",
            "160 block5c_drop False\n",
            "161 block5c_add False\n",
            "162 block6a_expand_conv False\n",
            "163 block6a_expand_bn False\n",
            "164 block6a_expand_activation False\n",
            "165 block6a_dwconv_pad False\n",
            "166 block6a_dwconv False\n",
            "167 block6a_bn False\n",
            "168 block6a_activation False\n",
            "169 block6a_se_squeeze False\n",
            "170 block6a_se_reshape False\n",
            "171 block6a_se_reduce False\n",
            "172 block6a_se_expand False\n",
            "173 block6a_se_excite False\n",
            "174 block6a_project_conv False\n",
            "175 block6a_project_bn False\n",
            "176 block6b_expand_conv False\n",
            "177 block6b_expand_bn False\n",
            "178 block6b_expand_activation False\n",
            "179 block6b_dwconv False\n",
            "180 block6b_bn False\n",
            "181 block6b_activation False\n",
            "182 block6b_se_squeeze False\n",
            "183 block6b_se_reshape False\n",
            "184 block6b_se_reduce False\n",
            "185 block6b_se_expand False\n",
            "186 block6b_se_excite False\n",
            "187 block6b_project_conv False\n",
            "188 block6b_project_bn False\n",
            "189 block6b_drop False\n",
            "190 block6b_add False\n",
            "191 block6c_expand_conv False\n",
            "192 block6c_expand_bn False\n",
            "193 block6c_expand_activation False\n",
            "194 block6c_dwconv False\n",
            "195 block6c_bn False\n",
            "196 block6c_activation False\n",
            "197 block6c_se_squeeze False\n",
            "198 block6c_se_reshape False\n",
            "199 block6c_se_reduce False\n",
            "200 block6c_se_expand False\n",
            "201 block6c_se_excite False\n",
            "202 block6c_project_conv False\n",
            "203 block6c_project_bn False\n",
            "204 block6c_drop False\n",
            "205 block6c_add False\n",
            "206 block6d_expand_conv False\n",
            "207 block6d_expand_bn False\n",
            "208 block6d_expand_activation False\n",
            "209 block6d_dwconv False\n",
            "210 block6d_bn False\n",
            "211 block6d_activation False\n",
            "212 block6d_se_squeeze False\n",
            "213 block6d_se_reshape False\n",
            "214 block6d_se_reduce False\n",
            "215 block6d_se_expand False\n",
            "216 block6d_se_excite False\n",
            "217 block6d_project_conv False\n",
            "218 block6d_project_bn False\n",
            "219 block6d_drop False\n",
            "220 block6d_add False\n",
            "221 block7a_expand_conv False\n",
            "222 block7a_expand_bn False\n",
            "223 block7a_expand_activation False\n",
            "224 block7a_dwconv False\n",
            "225 block7a_bn False\n",
            "226 block7a_activation False\n",
            "227 block7a_se_squeeze True\n",
            "228 block7a_se_reshape True\n",
            "229 block7a_se_reduce True\n",
            "230 block7a_se_expand True\n",
            "231 block7a_se_excite True\n",
            "232 block7a_project_conv True\n",
            "233 block7a_project_bn True\n",
            "234 top_conv True\n",
            "235 top_bn True\n",
            "236 top_activation True\n"
          ]
        }
      ]
    },
    {
      "cell_type": "code",
      "source": [
        "# Now we've unfrozen some of the layers closer to the top, how many trainable variables are there?\n",
        "print(len(model_2.trainable_variables))"
      ],
      "metadata": {
        "colab": {
          "base_uri": "https://localhost:8080/"
        },
        "id": "gTxYgfBfQ0SQ",
        "outputId": "53bf296b-de4b-4626-c768-9e7e0db27724"
      },
      "execution_count": null,
      "outputs": [
        {
          "output_type": "stream",
          "name": "stdout",
          "text": [
            "12\n"
          ]
        }
      ]
    },
    {
      "cell_type": "code",
      "source": [
        "# Fine tune for another 5 epochs\n",
        "fine_tune_epochs = initial_epochs + 5\n",
        "\n",
        "# Refit the model (same as model_2 except with more trainable layers)\n",
        "history_fine_10_percent_data_aug = model_2.fit(train_data_10_percent,\n",
        "                                               epochs = fine_tune_epochs,\n",
        "                                               validation_data = test_data,\n",
        "                                               validation_steps = int(0.25 * len(test_data)),\n",
        "                                               initial_epoch = history_10_percent_data_aug.epoch[-1],# start trining from previous last epoch feature extraction modelining bıraktığı yerden epoch devam eder\n",
        "                                               callbacks = [create_tensorboard_callback(dir_name = \"transfer_learning\",\n",
        "                                                                                        experiment_name = \"10_percnet_fine_tune_last_10\")]) "
      ],
      "metadata": {
        "colab": {
          "base_uri": "https://localhost:8080/"
        },
        "id": "-RqO05OVRKYD",
        "outputId": "e822ca4e-9ff7-4b00-ef92-794bb5dc41f2"
      },
      "execution_count": null,
      "outputs": [
        {
          "output_type": "stream",
          "name": "stdout",
          "text": [
            "Saving TensorBoard log files to: transfer_learning/10_percnet_fine_tune_last_10/20220824-080707\n",
            "Epoch 5/10\n",
            "24/24 [==============================] - 14s 284ms/step - loss: 0.6973 - accuracy: 0.8107 - val_loss: 0.6126 - val_accuracy: 0.7911\n",
            "Epoch 6/10\n",
            "24/24 [==============================] - 6s 249ms/step - loss: 0.5769 - accuracy: 0.8373 - val_loss: 0.5825 - val_accuracy: 0.7977\n",
            "Epoch 7/10\n",
            "24/24 [==============================] - 7s 269ms/step - loss: 0.5061 - accuracy: 0.8453 - val_loss: 0.5414 - val_accuracy: 0.8174\n",
            "Epoch 8/10\n",
            "24/24 [==============================] - 9s 358ms/step - loss: 0.4633 - accuracy: 0.8547 - val_loss: 0.5647 - val_accuracy: 0.8043\n",
            "Epoch 9/10\n",
            "24/24 [==============================] - 6s 241ms/step - loss: 0.4000 - accuracy: 0.8827 - val_loss: 0.5493 - val_accuracy: 0.8010\n",
            "Epoch 10/10\n",
            "24/24 [==============================] - 6s 222ms/step - loss: 0.3548 - accuracy: 0.9067 - val_loss: 0.5385 - val_accuracy: 0.8191\n"
          ]
        }
      ]
    },
    {
      "cell_type": "code",
      "source": [
        " # Evaluate the fine-tuned model (model_3 which is actually model_2 fine-tuıned for another 5 epochs)\n",
        "results_fine_tune_10_percent = model_2.evaluate(test_data)"
      ],
      "metadata": {
        "colab": {
          "base_uri": "https://localhost:8080/"
        },
        "id": "R2ig9VX7WGHI",
        "outputId": "e203f9fe-b7b3-490d-b8e6-28376fbd8c1a"
      },
      "execution_count": null,
      "outputs": [
        {
          "output_type": "stream",
          "name": "stdout",
          "text": [
            "79/79 [==============================] - 7s 76ms/step - loss: 0.4971 - accuracy: 0.8336\n"
          ]
        }
      ]
    },
    {
      "cell_type": "code",
      "source": [
        "# Check out the loss curves of our fine-tuned model\n",
        "plot_loss_curves(history_fine_10_percent_data_aug)"
      ],
      "metadata": {
        "id": "Hl7UR1zHWZxN",
        "colab": {
          "base_uri": "https://localhost:8080/",
          "height": 573
        },
        "outputId": "4adc97d5-50f9-4e5e-e41b-cdfe6b58f06c"
      },
      "execution_count": null,
      "outputs": [
        {
          "output_type": "display_data",
          "data": {
            "text/plain": [
              "<Figure size 432x288 with 1 Axes>"
            ],
            "image/png": "[encoded data removed]"
          },
          "metadata": {
            "needs_background": "light"
          }
        },
        {
          "output_type": "display_data",
          "data": {
            "text/plain": [
              "<Figure size 432x288 with 1 Axes>"
            ],
            "image/png": "[encoded data removed]"
          },
          "metadata": {
            "needs_background": "light"
          }
        }
      ]
    },
    {
      "cell_type": "markdown",
      "source": [
        "The `plot_loss_curves` function works greate with models which have only been fit once, however, we want something to compare one series of runnig `fit()` with another (e.g. before and after fine tuning)"
      ],
      "metadata": {
        "id": "i8PnA6YLs9Qp"
      }
    },
    {
      "cell_type": "code",
      "source": [
        "# Let's create a function to compare training histories\n",
        "def compare_historys(original_history, new_history, initial_epochs = 5):\n",
        "  \"\"\"\n",
        "  Compares two TensorFlow History objects.\n",
        "  \"\"\"\n",
        "\n",
        "  # Get original history measurements\n",
        "  acc = original_history.history[\"accuracy\"]\n",
        "  loss = original_history.history[\"loss\"]\n",
        "\n",
        "  val_acc = original_history.history[\"val_accuracy\"]\n",
        "  val_loss = original_history.history[\"val_loss\"]\n",
        "\n",
        "  # Combine original history metrics with new_history\n",
        "  total_acc = acc + new_history.history[\"accuracy\"]\n",
        "  total_loss = loss + new_history.history[\"loss\"]\n",
        "\n",
        "  total_val_acc = val_acc + new_history.history[\"val_accuracy\"]\n",
        "  total_val_loss = val_loss + new_history.history[\"val_loss\"]\n",
        "\n",
        "  # Make plots for accuracy\n",
        "  plt.figure(figsize = (8, 8))\n",
        "  plt.subplot(2, 1, 1)\n",
        "  plt.plot(total_acc, label = \"Training Accuracy\")\n",
        "  plt.plot(total_val_acc, label = \"Validation Accuracy\")\n",
        "  plt.plot([initial_epochs-1, initial_epochs-1], plt.ylim(), label = \"Start Fine Tuning\")\n",
        "  plt.legend(loc = \"Lower Right\")\n",
        "  plt.title(\"Training and Validation Accuracy\")\n",
        "\n",
        "  # Make plots for loss\n",
        "  plt.figure(figsize = (8, 8))\n",
        "  plt.subplot(2, 1, 1)\n",
        "  plt.plot(total_loss, label = \"Training Loss\")\n",
        "  plt.plot(total_val_loss, label = \"Validation Loss\")\n",
        "  plt.plot([initial_epochs-1, initial_epochs-1], plt.ylim(), label = \"Start Fine Tuning\")\n",
        "  plt.legend(loc = \"Lower Right\")\n",
        "  plt.title(\"Training and Validation Loss\")"
      ],
      "metadata": {
        "id": "gKRDGDG4YDcO"
      },
      "execution_count": null,
      "outputs": []
    },
    {
      "cell_type": "code",
      "source": [
        "compare_historys(history_10_percent_data_aug,\n",
        "                 history_fine_10_percent_data_aug,\n",
        "                 initial_epochs = 5)"
      ],
      "metadata": {
        "colab": {
          "base_uri": "https://localhost:8080/",
          "height": 958
        },
        "id": "tbw4lh5yutM2",
        "outputId": "8af12643-b086-45d0-bbc2-c31103a1f7a8"
      },
      "execution_count": null,
      "outputs": [
        {
          "output_type": "stream",
          "name": "stderr",
          "text": [
            "/usr/local/lib/python3.7/dist-packages/ipykernel_launcher.py:27: MatplotlibDeprecationWarning: Unrecognized location 'Lower Right'. Falling back on 'best'; valid locations are\n",
            "\tbest\n",
            "\tupper right\n",
            "\tupper left\n",
            "\tlower left\n",
            "\tlower right\n",
            "\tright\n",
            "\tcenter left\n",
            "\tcenter right\n",
            "\tlower center\n",
            "\tupper center\n",
            "\tcenter\n",
            "This will raise an exception in 3.3.\n",
            "/usr/local/lib/python3.7/dist-packages/ipykernel_launcher.py:36: MatplotlibDeprecationWarning: Unrecognized location 'Lower Right'. Falling back on 'best'; valid locations are\n",
            "\tbest\n",
            "\tupper right\n",
            "\tupper left\n",
            "\tlower left\n",
            "\tlower right\n",
            "\tright\n",
            "\tcenter left\n",
            "\tcenter right\n",
            "\tlower center\n",
            "\tupper center\n",
            "\tcenter\n",
            "This will raise an exception in 3.3.\n"
          ]
        },
        {
          "output_type": "display_data",
          "data": {
            "text/plain": [
              "<Figure size 576x576 with 1 Axes>"
            ],
            "image/png": "[encoded data removed]"
          },
          "metadata": {
            "needs_background": "light"
          }
        },
        {
          "output_type": "display_data",
          "data": {
            "text/plain": [
              "<Figure size 576x576 with 1 Axes>"
            ],
            "image/png": "[encoded data removed]"
          },
          "metadata": {
            "needs_background": "light"
          }
        }
      ]
    },
    {
      "cell_type": "markdown",
      "source": [
        "## Model 4: Fine-tuning and existing model on all of the data"
      ],
      "metadata": {
        "id": "LlfEnntjvirf"
      }
    },
    {
      "cell_type": "code",
      "source": [
        "!wget https://storage.googleapis.com/ztm_tf_course/food_vision/10_food_classes_all_data.zip"
      ],
      "metadata": {
        "colab": {
          "base_uri": "https://localhost:8080/"
        },
        "id": "7fXOQU65u1u9",
        "outputId": "a68663da-5a04-400e-d20d-dd73948dc6d6"
      },
      "execution_count": null,
      "outputs": [
        {
          "output_type": "stream",
          "name": "stdout",
          "text": [
            "--2022-08-24 08:08:16--  https://storage.googleapis.com/ztm_tf_course/food_vision/10_food_classes_all_data.zip\n",
            "Resolving storage.googleapis.com (storage.googleapis.com)... 74.125.20.128, 108.177.98.128, 74.125.197.128, ...\n",
            "Connecting to storage.googleapis.com (storage.googleapis.com)|74.125.20.128|:443... connected.\n",
            "HTTP request sent, awaiting response... 200 OK\n",
            "Length: 519183241 (495M) [application/zip]\n",
            "Saving to: ‘10_food_classes_all_data.zip.1’\n",
            "\n",
            "10_food_classes_all 100%[===================>] 495.13M  55.2MB/s    in 7.8s    \n",
            "\n",
            "2022-08-24 08:08:24 (63.3 MB/s) - ‘10_food_classes_all_data.zip.1’ saved [519183241/519183241]\n",
            "\n"
          ]
        }
      ]
    },
    {
      "cell_type": "code",
      "source": [
        "unzip_data(\"10_food_classes_all_data.zip\")"
      ],
      "metadata": {
        "id": "Tu7QafJ9v6Bf"
      },
      "execution_count": null,
      "outputs": []
    },
    {
      "cell_type": "code",
      "source": [
        "# Setup training and test dir\n",
        "train_dir_all_data = \"10_food_classes_all_data/train\"\n",
        "test_dir = \"10_food_classes_all_data/test\""
      ],
      "metadata": {
        "id": "ZYWuzRtGwBMO"
      },
      "execution_count": null,
      "outputs": []
    },
    {
      "cell_type": "code",
      "source": [
        "# How many images are we working with now?\n",
        "walk_through_dir(\"10_food_classes_all_data\")"
      ],
      "metadata": {
        "colab": {
          "base_uri": "https://localhost:8080/"
        },
        "id": "31ZIwjeRwRDq",
        "outputId": "db137686-ac64-4269-d051-bdc453ef8fe1"
      },
      "execution_count": null,
      "outputs": [
        {
          "output_type": "stream",
          "name": "stdout",
          "text": [
            "There are 2 directories and 0 images in '10_food_classes_all_data'.\n",
            "There are 10 directories and 0 images in '10_food_classes_all_data/train'.\n",
            "There are 0 directories and 750 images in '10_food_classes_all_data/train/fried_rice'.\n",
            "There are 0 directories and 750 images in '10_food_classes_all_data/train/sushi'.\n",
            "There are 0 directories and 750 images in '10_food_classes_all_data/train/chicken_wings'.\n",
            "There are 0 directories and 750 images in '10_food_classes_all_data/train/hamburger'.\n",
            "There are 0 directories and 750 images in '10_food_classes_all_data/train/chicken_curry'.\n",
            "There are 0 directories and 750 images in '10_food_classes_all_data/train/ice_cream'.\n",
            "There are 0 directories and 750 images in '10_food_classes_all_data/train/ramen'.\n",
            "There are 0 directories and 750 images in '10_food_classes_all_data/train/steak'.\n",
            "There are 0 directories and 750 images in '10_food_classes_all_data/train/pizza'.\n",
            "There are 0 directories and 750 images in '10_food_classes_all_data/train/grilled_salmon'.\n",
            "There are 10 directories and 0 images in '10_food_classes_all_data/test'.\n",
            "There are 0 directories and 250 images in '10_food_classes_all_data/test/fried_rice'.\n",
            "There are 0 directories and 250 images in '10_food_classes_all_data/test/sushi'.\n",
            "There are 0 directories and 250 images in '10_food_classes_all_data/test/chicken_wings'.\n",
            "There are 0 directories and 250 images in '10_food_classes_all_data/test/hamburger'.\n",
            "There are 0 directories and 250 images in '10_food_classes_all_data/test/chicken_curry'.\n",
            "There are 0 directories and 250 images in '10_food_classes_all_data/test/ice_cream'.\n",
            "There are 0 directories and 250 images in '10_food_classes_all_data/test/ramen'.\n",
            "There are 0 directories and 250 images in '10_food_classes_all_data/test/steak'.\n",
            "There are 0 directories and 250 images in '10_food_classes_all_data/test/pizza'.\n",
            "There are 0 directories and 250 images in '10_food_classes_all_data/test/grilled_salmon'.\n"
          ]
        }
      ]
    },
    {
      "cell_type": "code",
      "source": [
        "# Setup data inputs\n",
        "import tensorflow as tf\n",
        "IMG_SIZE = (224, 224)\n",
        "train_data_10_classes_full = tf.keras.preprocessing.image_dataset_from_directory(directory = train_dir_all_data,\n",
        "                                                                                 label_mode = 'categorical',\n",
        "                                                                                 image_size = IMG_SIZE)\n",
        "\n",
        "\n",
        "test_data = tf.keras.preprocessing.image_dataset_from_directory(directory = test_dir,\n",
        "                                                                label_mode = 'categorical',\n",
        "                                                                image_size = IMG_SIZE)"
      ],
      "metadata": {
        "colab": {
          "base_uri": "https://localhost:8080/"
        },
        "id": "BjXNaq6BwVn3",
        "outputId": "aa6b2021-3b67-47c7-8f90-999becfcfcc0"
      },
      "execution_count": null,
      "outputs": [
        {
          "output_type": "stream",
          "name": "stdout",
          "text": [
            "Found 7500 files belonging to 10 classes.\n",
            "Found 2500 files belonging to 10 classes.\n"
          ]
        }
      ]
    },
    {
      "cell_type": "markdown",
      "source": [
        "The test dataset we've loaded in is the same as what we've been using the previous experiemnts (all experiments have used the same test dataset).\n",
        "\n",
        "Let's verify this..."
      ],
      "metadata": {
        "id": "G9zBh2Bsxquz"
      }
    },
    {
      "cell_type": "code",
      "source": [
        "# Evaluate model 2 (this is the fine-tuned on 10 percent of data version)\n",
        "model_2.evaluate(test_data)"
      ],
      "metadata": {
        "colab": {
          "base_uri": "https://localhost:8080/"
        },
        "id": "Wef0plMOw0f4",
        "outputId": "c3b9c9ba-55ab-4f13-ea72-a30f489dad52"
      },
      "execution_count": null,
      "outputs": [
        {
          "output_type": "stream",
          "name": "stdout",
          "text": [
            "79/79 [==============================] - 7s 76ms/step - loss: 0.4971 - accuracy: 0.8336\n"
          ]
        },
        {
          "output_type": "execute_result",
          "data": {
            "text/plain": [
              "[0.4971339702606201, 0.8335999846458435]"
            ]
          },
          "metadata": {},
          "execution_count": 98
        }
      ]
    },
    {
      "cell_type": "markdown",
      "source": [
        "To train a fine-tuning model (model_4) we need ro revery model_2 back to its feature extraction weights."
      ],
      "metadata": {
        "id": "U5nSLV70yB9N"
      }
    },
    {
      "cell_type": "code",
      "source": [
        "# Load weights model from checkpoint, that way we can fine-tune from the same stage the 10 percnt data model was fine-tuned from\n",
        "model_2.load_weights(checkpoint_path)"
      ],
      "metadata": {
        "colab": {
          "base_uri": "https://localhost:8080/"
        },
        "id": "GnuhQYPRx6ji",
        "outputId": "2dbaa60c-4740-4df0-bc42-f81acbfcdbc9"
      },
      "execution_count": null,
      "outputs": [
        {
          "output_type": "execute_result",
          "data": {
            "text/plain": [
              "<tensorflow.python.training.tracking.util.CheckpointLoadStatus at 0x7f428dda8710>"
            ]
          },
          "metadata": {},
          "execution_count": 99
        }
      ]
    },
    {
      "cell_type": "code",
      "source": [
        "# Let's evaluate model_2 now\n",
        "model_2.evaluate(test_data)"
      ],
      "metadata": {
        "colab": {
          "base_uri": "https://localhost:8080/"
        },
        "id": "bhPMAyezyTrt",
        "outputId": "ead372e2-cf73-4b3f-c491-790f30d73182"
      },
      "execution_count": null,
      "outputs": [
        {
          "output_type": "stream",
          "name": "stdout",
          "text": [
            "79/79 [==============================] - 6s 75ms/step - loss: 0.7092 - accuracy: 0.8052\n"
          ]
        },
        {
          "output_type": "execute_result",
          "data": {
            "text/plain": [
              "[0.7091636061668396, 0.8051999807357788]"
            ]
          },
          "metadata": {},
          "execution_count": 100
        }
      ]
    },
    {
      "cell_type": "code",
      "source": [
        "# Check to see if your model_2 has been reverted back to feature extraction results\n"
      ],
      "metadata": {
        "id": "N9cCnmaCyflK"
      },
      "execution_count": null,
      "outputs": []
    },
    {
      "cell_type": "markdown",
      "source": [
        "Alright, the previous steps might seem quite confusing but all we've done is:\n",
        "\n",
        "1. Trained a feature extraction transfer learning model for 5 epochs on 10% of the data with data augmentation (model_2) and we saved the model's weights usign `ModelCheckpoint` callback.\n",
        "\n",
        "2. Fine-tuned the same model on the same 10% of the data for a further 5 epochs with the top 10 layers og the base model unfrozen (model_3).\n",
        "\n",
        "3. Saved the results and training logs each time.\n",
        "\n",
        "4. Reloaded the model from step 1 to do the same steps as step 2 except this time we're going to use all of the data (model_4)"
      ],
      "metadata": {
        "id": "3Z7fsUneypQ-"
      }
    },
    {
      "cell_type": "code",
      "source": [
        "# Check which layer are tunable in the whole model\n",
        "for layer_number, layer in enumerate(model_2.layers):\n",
        "  print(layer_number, layer.name, layer.trainable)"
      ],
      "metadata": {
        "colab": {
          "base_uri": "https://localhost:8080/"
        },
        "id": "qhJ4b_zKymkc",
        "outputId": "9b432001-3345-4323-915f-38813ef980ee"
      },
      "execution_count": null,
      "outputs": [
        {
          "output_type": "stream",
          "name": "stdout",
          "text": [
            "0 input_layer True\n",
            "1 data_augmentation True\n",
            "2 efficientnetb0 True\n",
            "3 global_average_pooling_2D True\n",
            "4 output_layer True\n"
          ]
        }
      ]
    },
    {
      "cell_type": "code",
      "source": [
        "# Let's drill into our base_model (efficientnetb0) and see what layers are trainable\n",
        "for layer_number, layer in enumerate(model_2.layers[2].layers):\n",
        "  print(layer_number, layer, layer.trainable)"
      ],
      "metadata": {
        "colab": {
          "base_uri": "https://localhost:8080/"
        },
        "id": "uBy8AaATzY9O",
        "outputId": "d2e365c8-5503-4a30-9d74-863871557b07"
      },
      "execution_count": null,
      "outputs": [
        {
          "output_type": "stream",
          "name": "stdout",
          "text": [
            "0 <keras.engine.input_layer.InputLayer object at 0x7f428ddc6410> False\n",
            "1 <keras.layers.preprocessing.image_preprocessing.Rescaling object at 0x7f428ddc6450> False\n",
            "2 <keras.layers.preprocessing.normalization.Normalization object at 0x7f428de1c150> False\n",
            "3 <keras.layers.convolutional.ZeroPadding2D object at 0x7f428df0d950> False\n",
            "4 <keras.layers.convolutional.Conv2D object at 0x7f428df27d50> False\n",
            "5 <keras.layers.normalization.batch_normalization.BatchNormalization object at 0x7f428de1c6d0> False\n",
            "6 <keras.layers.core.activation.Activation object at 0x7f4327ab61d0> False\n",
            "7 <keras.layers.convolutional.DepthwiseConv2D object at 0x7f43279c4550> False\n",
            "8 <keras.layers.normalization.batch_normalization.BatchNormalization object at 0x7f4327a94790> False\n",
            "9 <keras.layers.core.activation.Activation object at 0x7f43277626d0> False\n",
            "10 <keras.layers.pooling.GlobalAveragePooling2D object at 0x7f432770c450> False\n",
            "11 <keras.layers.core.reshape.Reshape object at 0x7f4327717b50> False\n",
            "12 <keras.layers.convolutional.Conv2D object at 0x7f4327765210> False\n",
            "13 <keras.layers.convolutional.Conv2D object at 0x7f4327706b90> False\n",
            "14 <keras.layers.merge.Multiply object at 0x7f43277065d0> False\n",
            "15 <keras.layers.convolutional.Conv2D object at 0x7f4327729fd0> False\n",
            "16 <keras.layers.normalization.batch_normalization.BatchNormalization object at 0x7f43276c5290> False\n",
            "17 <keras.layers.convolutional.Conv2D object at 0x7f43276d9990> False\n",
            "18 <keras.layers.normalization.batch_normalization.BatchNormalization object at 0x7f432c3c2a50> False\n",
            "19 <keras.layers.core.activation.Activation object at 0x7f4327607410> False\n",
            "20 <keras.layers.convolutional.ZeroPadding2D object at 0x7f43276063d0> False\n",
            "21 <keras.layers.convolutional.DepthwiseConv2D object at 0x7f43277b3590> False\n",
            "22 <keras.layers.normalization.batch_normalization.BatchNormalization object at 0x7f4327739dd0> False\n",
            "23 <keras.layers.core.activation.Activation object at 0x7f4327739f50> False\n",
            "24 <keras.layers.pooling.GlobalAveragePooling2D object at 0x7f432773cdd0> False\n",
            "25 <keras.layers.core.reshape.Reshape object at 0x7f4327721690> False\n",
            "26 <keras.layers.convolutional.Conv2D object at 0x7f432763c3d0> False\n",
            "27 <keras.layers.convolutional.Conv2D object at 0x7f4326f654d0> False\n",
            "28 <keras.layers.merge.Multiply object at 0x7f43276ba3d0> False\n",
            "29 <keras.layers.convolutional.Conv2D object at 0x7f4327a7b6d0> False\n",
            "30 <keras.layers.normalization.batch_normalization.BatchNormalization object at 0x7f428d3e0a90> False\n",
            "31 <keras.layers.convolutional.Conv2D object at 0x7f432a0d0d90> False\n",
            "32 <keras.layers.normalization.batch_normalization.BatchNormalization object at 0x7f432a0c3bd0> False\n",
            "33 <keras.layers.core.activation.Activation object at 0x7f43222ebed0> False\n",
            "34 <keras.layers.convolutional.DepthwiseConv2D object at 0x7f43222e1850> False\n",
            "35 <keras.layers.normalization.batch_normalization.BatchNormalization object at 0x7f432234a490> False\n",
            "36 <keras.layers.core.activation.Activation object at 0x7f43222e1610> False\n",
            "37 <keras.layers.pooling.GlobalAveragePooling2D object at 0x7f4322347f90> False\n",
            "38 <keras.layers.core.reshape.Reshape object at 0x7f4322338b50> False\n",
            "39 <keras.layers.convolutional.Conv2D object at 0x7f4322358110> False\n",
            "40 <keras.layers.convolutional.Conv2D object at 0x7f43222ebb90> False\n",
            "41 <keras.layers.merge.Multiply object at 0x7f432763c610> False\n",
            "42 <keras.layers.convolutional.Conv2D object at 0x7f4327745a90> False\n",
            "43 <keras.layers.normalization.batch_normalization.BatchNormalization object at 0x7f43276a1310> False\n",
            "44 <keras.layers.core.dropout.Dropout object at 0x7f4327a94490> False\n",
            "45 <keras.layers.merge.Add object at 0x7f43277719d0> False\n",
            "46 <keras.layers.convolutional.Conv2D object at 0x7f4327605210> False\n",
            "47 <keras.layers.normalization.batch_normalization.BatchNormalization object at 0x7f4322334890> False\n",
            "48 <keras.layers.core.activation.Activation object at 0x7f43279fa210> False\n",
            "49 <keras.layers.convolutional.ZeroPadding2D object at 0x7f43279fab90> False\n",
            "50 <keras.layers.convolutional.DepthwiseConv2D object at 0x7f4322325a50> False\n",
            "51 <keras.layers.normalization.batch_normalization.BatchNormalization object at 0x7f432231f210> False\n",
            "52 <keras.layers.core.activation.Activation object at 0x7f432231f850> False\n",
            "53 <keras.layers.pooling.GlobalAveragePooling2D object at 0x7f4322397390> False\n",
            "54 <keras.layers.core.reshape.Reshape object at 0x7f432238a910> False\n",
            "55 <keras.layers.convolutional.Conv2D object at 0x7f43223838d0> False\n",
            "56 <keras.layers.convolutional.Conv2D object at 0x7f4322388d50> False\n",
            "57 <keras.layers.merge.Multiply object at 0x7f432236fed0> False\n",
            "58 <keras.layers.convolutional.Conv2D object at 0x7f432236c2d0> False\n",
            "59 <keras.layers.normalization.batch_normalization.BatchNormalization object at 0x7f4322361b50> False\n",
            "60 <keras.layers.convolutional.Conv2D object at 0x7f43223dc8d0> False\n",
            "61 <keras.layers.normalization.batch_normalization.BatchNormalization object at 0x7f43223d0a10> False\n",
            "62 <keras.layers.core.activation.Activation object at 0x7f43223d8a50> False\n",
            "63 <keras.layers.convolutional.DepthwiseConv2D object at 0x7f43223cb810> False\n",
            "64 <keras.layers.normalization.batch_normalization.BatchNormalization object at 0x7f43223b6f90> False\n",
            "65 <keras.layers.core.activation.Activation object at 0x7f43223c4310> False\n",
            "66 <keras.layers.pooling.GlobalAveragePooling2D object at 0x7f43223b2d90> False\n",
            "67 <keras.layers.core.reshape.Reshape object at 0x7f43223a5c50> False\n",
            "68 <keras.layers.convolutional.Conv2D object at 0x7f43223a0990> False\n",
            "69 <keras.layers.convolutional.Conv2D object at 0x7f4322416990> False\n",
            "70 <keras.layers.merge.Multiply object at 0x7f4322410550> False\n",
            "71 <keras.layers.convolutional.Conv2D object at 0x7f432240c590> False\n",
            "72 <keras.layers.normalization.batch_normalization.BatchNormalization object at 0x7f4322403690> False\n",
            "73 <keras.layers.core.dropout.Dropout object at 0x7f43223fb850> False\n",
            "74 <keras.layers.merge.Add object at 0x7f43223aa410> False\n",
            "75 <keras.layers.convolutional.Conv2D object at 0x7f43223b2210> False\n",
            "76 <keras.layers.normalization.batch_normalization.BatchNormalization object at 0x7f43223e7d10> False\n",
            "77 <keras.layers.core.activation.Activation object at 0x7f43223dfed0> False\n",
            "78 <keras.layers.convolutional.ZeroPadding2D object at 0x7f43223e7c90> False\n",
            "79 <keras.layers.convolutional.DepthwiseConv2D object at 0x7f43224190d0> False\n",
            "80 <keras.layers.normalization.batch_normalization.BatchNormalization object at 0x7f43223b67d0> False\n",
            "81 <keras.layers.core.activation.Activation object at 0x7f432237ee50> False\n",
            "82 <keras.layers.pooling.GlobalAveragePooling2D object at 0x7f4322366390> False\n",
            "83 <keras.layers.core.reshape.Reshape object at 0x7f4322397850> False\n",
            "84 <keras.layers.convolutional.Conv2D object at 0x7f4327606d50> False\n",
            "85 <keras.layers.convolutional.Conv2D object at 0x7f428df0d6d0> False\n",
            "86 <keras.layers.merge.Multiply object at 0x7f4322453810> False\n",
            "87 <keras.layers.convolutional.Conv2D object at 0x7f432244b810> False\n",
            "88 <keras.layers.normalization.batch_normalization.BatchNormalization object at 0x7f4322453310> False\n",
            "89 <keras.layers.convolutional.Conv2D object at 0x7f432243edd0> False\n",
            "90 <keras.layers.normalization.batch_normalization.BatchNormalization object at 0x7f4322432410> False\n",
            "91 <keras.layers.core.activation.Activation object at 0x7f4322435950> False\n",
            "92 <keras.layers.convolutional.DepthwiseConv2D object at 0x7f432243ed10> False\n",
            "93 <keras.layers.normalization.batch_normalization.BatchNormalization object at 0x7f432241fed0> False\n",
            "94 <keras.layers.core.activation.Activation object at 0x7f432242b190> False\n",
            "95 <keras.layers.pooling.GlobalAveragePooling2D object at 0x7f428de04c50> False\n",
            "96 <keras.layers.core.reshape.Reshape object at 0x7f4322487dd0> False\n",
            "97 <keras.layers.convolutional.Conv2D object at 0x7f4322481390> False\n",
            "98 <keras.layers.convolutional.Conv2D object at 0x7f432247ff10> False\n",
            "99 <keras.layers.merge.Multiply object at 0x7f43224718d0> False\n",
            "100 <keras.layers.convolutional.Conv2D object at 0x7f432246bf50> False\n",
            "101 <keras.layers.normalization.batch_normalization.BatchNormalization object at 0x7f4322465f90> False\n",
            "102 <keras.layers.core.dropout.Dropout object at 0x7f43224dc890> False\n",
            "103 <keras.layers.merge.Add object at 0x7f43224dc850> False\n",
            "104 <keras.layers.convolutional.Conv2D object at 0x7f4322465bd0> False\n",
            "105 <keras.layers.normalization.batch_normalization.BatchNormalization object at 0x7f43224ccf50> False\n",
            "106 <keras.layers.core.activation.Activation object at 0x7f43224c66d0> False\n",
            "107 <keras.layers.convolutional.DepthwiseConv2D object at 0x7f43224ccdd0> False\n",
            "108 <keras.layers.normalization.batch_normalization.BatchNormalization object at 0x7f43224b7350> False\n",
            "109 <keras.layers.core.activation.Activation object at 0x7f43224a9910> False\n",
            "110 <keras.layers.pooling.GlobalAveragePooling2D object at 0x7f43224a9450> False\n",
            "111 <keras.layers.core.reshape.Reshape object at 0x7f43224a0c50> False\n",
            "112 <keras.layers.convolutional.Conv2D object at 0x7f432250ea10> False\n",
            "113 <keras.layers.convolutional.Conv2D object at 0x7f4322519190> False\n",
            "114 <keras.layers.merge.Multiply object at 0x7f43224fee90> False\n",
            "115 <keras.layers.convolutional.Conv2D object at 0x7f43224f7a50> False\n",
            "116 <keras.layers.normalization.batch_normalization.BatchNormalization object at 0x7f432250bcd0> False\n",
            "117 <keras.layers.core.dropout.Dropout object at 0x7f43224a0190> False\n",
            "118 <keras.layers.merge.Add object at 0x7f43224bbcd0> False\n",
            "119 <keras.layers.convolutional.Conv2D object at 0x7f43224dcb10> False\n",
            "120 <keras.layers.normalization.batch_normalization.BatchNormalization object at 0x7f43224d3bd0> False\n",
            "121 <keras.layers.core.activation.Activation object at 0x7f4322465410> False\n",
            "122 <keras.layers.convolutional.DepthwiseConv2D object at 0x7f4327741fd0> False\n",
            "123 <keras.layers.normalization.batch_normalization.BatchNormalization object at 0x7f432244bfd0> False\n",
            "124 <keras.layers.core.activation.Activation object at 0x7f4322435410> False\n",
            "125 <keras.layers.pooling.GlobalAveragePooling2D object at 0x7f43224ea0d0> False\n",
            "126 <keras.layers.core.reshape.Reshape object at 0x7f43224ea790> False\n",
            "127 <keras.layers.convolutional.Conv2D object at 0x7f43224efd90> False\n",
            "128 <keras.layers.convolutional.Conv2D object at 0x7f4322555750> False\n",
            "129 <keras.layers.merge.Multiply object at 0x7f432255ee90> False\n",
            "130 <keras.layers.convolutional.Conv2D object at 0x7f43223664d0> False\n",
            "131 <keras.layers.normalization.batch_normalization.BatchNormalization object at 0x7f432253f710> False\n",
            "132 <keras.layers.convolutional.Conv2D object at 0x7f4322533150> False\n",
            "133 <keras.layers.normalization.batch_normalization.BatchNormalization object at 0x7f4322537350> False\n",
            "134 <keras.layers.core.activation.Activation object at 0x7f4322529350> False\n",
            "135 <keras.layers.convolutional.DepthwiseConv2D object at 0x7f432259d510> False\n",
            "136 <keras.layers.normalization.batch_normalization.BatchNormalization object at 0x7f4322525890> False\n",
            "137 <keras.layers.core.activation.Activation object at 0x7f4322593510> False\n",
            "138 <keras.layers.pooling.GlobalAveragePooling2D object at 0x7f432258fc90> False\n",
            "139 <keras.layers.core.reshape.Reshape object at 0x7f4322588590> False\n",
            "140 <keras.layers.convolutional.Conv2D object at 0x7f4322580490> False\n",
            "141 <keras.layers.convolutional.Conv2D object at 0x7f43225644d0> False\n",
            "142 <keras.layers.merge.Multiply object at 0x7f43225749d0> False\n",
            "143 <keras.layers.convolutional.Conv2D object at 0x7f4322567c90> False\n",
            "144 <keras.layers.normalization.batch_normalization.BatchNormalization object at 0x7f432a0b4810> False\n",
            "145 <keras.layers.core.dropout.Dropout object at 0x7f432a0933d0> False\n",
            "146 <keras.layers.merge.Add object at 0x7f43225c3c90> False\n",
            "147 <keras.layers.convolutional.Conv2D object at 0x7f4327855ad0> False\n",
            "148 <keras.layers.normalization.batch_normalization.BatchNormalization object at 0x7f4327777d10> False\n",
            "149 <keras.layers.core.activation.Activation object at 0x7f4327777510> False\n",
            "150 <keras.layers.convolutional.DepthwiseConv2D object at 0x7f4322578750> False\n",
            "151 <keras.layers.normalization.batch_normalization.BatchNormalization object at 0x7f43277bfed0> False\n",
            "152 <keras.layers.core.activation.Activation object at 0x7f432781dd10> False\n",
            "153 <keras.layers.pooling.GlobalAveragePooling2D object at 0x7f43278435d0> False\n",
            "154 <keras.layers.core.reshape.Reshape object at 0x7f432784dd10> False\n",
            "155 <keras.layers.convolutional.Conv2D object at 0x7f432780c4d0> False\n",
            "156 <keras.layers.convolutional.Conv2D object at 0x7f4327a0a250> False\n",
            "157 <keras.layers.merge.Multiply object at 0x7f4327855990> False\n",
            "158 <keras.layers.convolutional.Conv2D object at 0x7f4322530a90> False\n",
            "159 <keras.layers.normalization.batch_normalization.BatchNormalization object at 0x7f4322586cd0> False\n",
            "160 <keras.layers.core.dropout.Dropout object at 0x7f43224d3610> False\n",
            "161 <keras.layers.merge.Add object at 0x7f4327686e90> False\n",
            "162 <keras.layers.convolutional.Conv2D object at 0x7f4327831d10> False\n",
            "163 <keras.layers.normalization.batch_normalization.BatchNormalization object at 0x7f4322393dd0> False\n",
            "164 <keras.layers.core.activation.Activation object at 0x7f432763d590> False\n",
            "165 <keras.layers.convolutional.ZeroPadding2D object at 0x7f43276a8290> False\n",
            "166 <keras.layers.convolutional.DepthwiseConv2D object at 0x7f4322549d10> False\n",
            "167 <keras.layers.normalization.batch_normalization.BatchNormalization object at 0x7f432c282990> False\n",
            "168 <keras.layers.core.activation.Activation object at 0x7f4327730dd0> False\n",
            "169 <keras.layers.pooling.GlobalAveragePooling2D object at 0x7f4327730e50> False\n",
            "170 <keras.layers.core.reshape.Reshape object at 0x7f43246bf6d0> False\n",
            "171 <keras.layers.convolutional.Conv2D object at 0x7f43246b1350> False\n",
            "172 <keras.layers.convolutional.Conv2D object at 0x7f4324a7cb50> False\n",
            "173 <keras.layers.merge.Multiply object at 0x7f43276b3b10> False\n",
            "174 <keras.layers.convolutional.Conv2D object at 0x7f4324a7c750> False\n",
            "175 <keras.layers.normalization.batch_normalization.BatchNormalization object at 0x7f432c282750> False\n",
            "176 <keras.layers.convolutional.Conv2D object at 0x7f4324ad67d0> False\n",
            "177 <keras.layers.normalization.batch_normalization.BatchNormalization object at 0x7f4324acb0d0> False\n",
            "178 <keras.layers.core.activation.Activation object at 0x7f4324ad65d0> False\n",
            "179 <keras.layers.convolutional.DepthwiseConv2D object at 0x7f4324abdcd0> False\n",
            "180 <keras.layers.normalization.batch_normalization.BatchNormalization object at 0x7f4324ac44d0> False\n",
            "181 <keras.layers.core.activation.Activation object at 0x7f4324a637d0> False\n",
            "182 <keras.layers.pooling.GlobalAveragePooling2D object at 0x7f4324ab1ad0> False\n",
            "183 <keras.layers.core.reshape.Reshape object at 0x7f4324aa8410> False\n",
            "184 <keras.layers.convolutional.Conv2D object at 0x7f4327730d50> False\n",
            "185 <keras.layers.convolutional.Conv2D object at 0x7f4324a67a10> False\n",
            "186 <keras.layers.merge.Multiply object at 0x7f4324b162d0> False\n",
            "187 <keras.layers.convolutional.Conv2D object at 0x7f4324aa5950> False\n",
            "188 <keras.layers.normalization.batch_normalization.BatchNormalization object at 0x7f4324b1fed0> False\n",
            "189 <keras.layers.core.dropout.Dropout object at 0x7f4324afd590> False\n",
            "190 <keras.layers.merge.Add object at 0x7f4324b13b10> False\n",
            "191 <keras.layers.convolutional.Conv2D object at 0x7f4324af9190> False\n",
            "192 <keras.layers.normalization.batch_normalization.BatchNormalization object at 0x7f4322578910> False\n",
            "193 <keras.layers.core.activation.Activation object at 0x7f4324aed490> False\n",
            "194 <keras.layers.convolutional.DepthwiseConv2D object at 0x7f4324af13d0> False\n",
            "195 <keras.layers.normalization.batch_normalization.BatchNormalization object at 0x7f4324b5d410> False\n",
            "196 <keras.layers.core.activation.Activation object at 0x7f4324af6a90> False\n",
            "197 <keras.layers.pooling.GlobalAveragePooling2D object at 0x7f4324b5d710> False\n",
            "198 <keras.layers.core.reshape.Reshape object at 0x7f4324af6190> False\n",
            "199 <keras.layers.convolutional.Conv2D object at 0x7f4324b06810> False\n",
            "200 <keras.layers.convolutional.Conv2D object at 0x7f4324af96d0> False\n",
            "201 <keras.layers.merge.Multiply object at 0x7f4324a638d0> False\n",
            "202 <keras.layers.convolutional.Conv2D object at 0x7f4324aea950> False\n",
            "203 <keras.layers.normalization.batch_normalization.BatchNormalization object at 0x7f4324abdd50> False\n",
            "204 <keras.layers.core.dropout.Dropout object at 0x7f4324b4f8d0> False\n",
            "205 <keras.layers.merge.Add object at 0x7f4324afd190> False\n",
            "206 <keras.layers.convolutional.Conv2D object at 0x7f4324b44890> False\n",
            "207 <keras.layers.normalization.batch_normalization.BatchNormalization object at 0x7f4324aea850> False\n",
            "208 <keras.layers.core.activation.Activation object at 0x7f4324b4d410> False\n",
            "209 <keras.layers.convolutional.DepthwiseConv2D object at 0x7f4324b32250> False\n",
            "210 <keras.layers.normalization.batch_normalization.BatchNormalization object at 0x7f4324b32710> False\n",
            "211 <keras.layers.core.activation.Activation object at 0x7f4324b32ed0> False\n",
            "212 <keras.layers.pooling.GlobalAveragePooling2D object at 0x7f4324b32290> False\n",
            "213 <keras.layers.core.reshape.Reshape object at 0x7f4324af6150> False\n",
            "214 <keras.layers.convolutional.Conv2D object at 0x7f4324b98f90> False\n",
            "215 <keras.layers.convolutional.Conv2D object at 0x7f4324b591d0> False\n",
            "216 <keras.layers.merge.Multiply object at 0x7f4324b8b810> False\n",
            "217 <keras.layers.convolutional.Conv2D object at 0x7f4324acb3d0> False\n",
            "218 <keras.layers.normalization.batch_normalization.BatchNormalization object at 0x7f4324b2a1d0> False\n",
            "219 <keras.layers.core.dropout.Dropout object at 0x7f4324b83b50> False\n",
            "220 <keras.layers.merge.Add object at 0x7f4324b80250> False\n",
            "221 <keras.layers.convolutional.Conv2D object at 0x7f4324b9c3d0> False\n",
            "222 <keras.layers.normalization.batch_normalization.BatchNormalization object at 0x7f4324b3a6d0> False\n",
            "223 <keras.layers.core.activation.Activation object at 0x7f4324b6e8d0> False\n",
            "224 <keras.layers.convolutional.DepthwiseConv2D object at 0x7f4324b78fd0> False\n",
            "225 <keras.layers.normalization.batch_normalization.BatchNormalization object at 0x7f4324b2a7d0> False\n",
            "226 <keras.layers.core.activation.Activation object at 0x7f4324b7dc50> False\n",
            "227 <keras.layers.pooling.GlobalAveragePooling2D object at 0x7f4324be0810> True\n",
            "228 <keras.layers.core.reshape.Reshape object at 0x7f4324bd2a90> True\n",
            "229 <keras.layers.convolutional.Conv2D object at 0x7f4324b2a150> True\n",
            "230 <keras.layers.convolutional.Conv2D object at 0x7f4324b92cd0> True\n",
            "231 <keras.layers.merge.Multiply object at 0x7f4324bba6d0> True\n",
            "232 <keras.layers.convolutional.Conv2D object at 0x7f4324bafdd0> True\n",
            "233 <keras.layers.normalization.batch_normalization.BatchNormalization object at 0x7f4324bba990> True\n",
            "234 <keras.layers.convolutional.Conv2D object at 0x7f428d6b0390> True\n",
            "235 <keras.layers.normalization.batch_normalization.BatchNormalization object at 0x7f4324baf290> True\n",
            "236 <keras.layers.core.activation.Activation object at 0x7f4324c13250> True\n"
          ]
        }
      ]
    },
    {
      "cell_type": "code",
      "source": [
        "# Compile \n",
        "model_2.compile(loss = tf.keras.losses.CategoricalCrossentropy(),\n",
        "                optimizer = tf.keras.optimizers.Adam(learning_rate = 0.0001),\n",
        "                metrics = [\"accuracy\"])"
      ],
      "metadata": {
        "id": "DskAonGkzmox"
      },
      "execution_count": null,
      "outputs": []
    },
    {
      "cell_type": "code",
      "source": [
        "# Continue to train and fine-tune the model to our data (100% of training data)\n",
        "fine_tune_epochs = initial_epochs + 5\n",
        "\n",
        "history_fine_10_classes_full = model_2.fit(train_data_10_classes_full,\n",
        "                                           epochs = fine_tune_epochs,\n",
        "                                           validation_data = test_data,\n",
        "                                           validation_steps = int(0.25 * len(test_data)),\n",
        "                                           initial_epoch = history_10_percent_data_aug.epoch[-1],\n",
        "                                           callbacks = [create_tensorboard_callback(dir_name = \"transfer_learning\",\n",
        "                                                                                    experiment_name = \"full_10_classes_fine_tune_last_10\")])"
      ],
      "metadata": {
        "colab": {
          "base_uri": "https://localhost:8080/"
        },
        "id": "nrarl0Ymz_nu",
        "outputId": "47f30dce-08c1-4f29-f835-b9e09d0ae2fd"
      },
      "execution_count": null,
      "outputs": [
        {
          "output_type": "stream",
          "name": "stdout",
          "text": [
            "Saving TensorBoard log files to: transfer_learning/full_10_classes_fine_tune_last_10/20220824-080850\n",
            "Epoch 5/10\n",
            "235/235 [==============================] - 43s 156ms/step - loss: 0.7421 - accuracy: 0.7583 - val_loss: 0.4326 - val_accuracy: 0.8421\n",
            "Epoch 6/10\n",
            "235/235 [==============================] - 35s 145ms/step - loss: 0.5980 - accuracy: 0.8083 - val_loss: 0.3890 - val_accuracy: 0.8635\n",
            "Epoch 7/10\n",
            "235/235 [==============================] - 34s 142ms/step - loss: 0.5302 - accuracy: 0.8303 - val_loss: 0.3517 - val_accuracy: 0.8750\n",
            "Epoch 8/10\n",
            "235/235 [==============================] - 32s 134ms/step - loss: 0.4935 - accuracy: 0.8384 - val_loss: 0.2985 - val_accuracy: 0.9062\n",
            "Epoch 9/10\n",
            "235/235 [==============================] - 30s 126ms/step - loss: 0.4558 - accuracy: 0.8515 - val_loss: 0.3040 - val_accuracy: 0.9062\n",
            "Epoch 10/10\n",
            "235/235 [==============================] - 30s 126ms/step - loss: 0.4355 - accuracy: 0.8584 - val_loss: 0.2903 - val_accuracy: 0.9161\n"
          ]
        }
      ]
    },
    {
      "cell_type": "code",
      "source": [
        "import os\n",
        "import numpy as np\n",
        "from keras.preprocessing import image\n",
        "\n",
        "def show_predicts(path, model, index):\n",
        "    list_dir = os.listdir(path)\n",
        "    i = 0\n",
        "    sayma = 0\n",
        "    while i < len(list_dir):\n",
        "        img1 = image.load_img(os.path.join(path, list_dir[i]), target_size = (224, 224, 3))\n",
        "        img_array = tf.expand_dims(image.img_to_array(img1) / 255, axis = 0)\n",
        "        predict = model.predict(img_array)\n",
        "        a = np.argmax(predict)\n",
        "        if a == index:\n",
        "            sayma += 1\n",
        "        i += 1\n",
        "    return sayma"
      ],
      "metadata": {
        "id": "AvmyKn690iWd"
      },
      "execution_count": null,
      "outputs": []
    },
    {
      "cell_type": "code",
      "source": [
        "list_dir = \"10_food_classes_all_data/test\"\n",
        "list_dirr = os.listdir(path = list_dir)\n",
        "i = 0\n",
        "while i < len(list_dirr):\n",
        "    print(f\"{list_dirr[i]}: {len(os.listdir(os.path.join(list_dir, list_dirr[i])))} -> {show_predicts(path = os.path.join(list_dir, list_dirr[i]), model = model_2, index = i)}\")\n",
        "    i += 1"
      ],
      "metadata": {
        "id": "X6JrLHJ06cxM"
      },
      "execution_count": null,
      "outputs": []
    },
    {
      "cell_type": "code",
      "source": [
        ""
      ],
      "metadata": {
        "id": "900xY5ss6dqT"
      },
      "execution_count": null,
      "outputs": []
    }
  ]
}